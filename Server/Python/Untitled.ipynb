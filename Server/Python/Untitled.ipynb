{
 "cells": [
  {
   "cell_type": "code",
   "execution_count": 1,
   "id": "5f8d914d-1624-4d99-ac74-5dbf8542b303",
   "metadata": {},
   "outputs": [],
   "source": [
    "from selenium import webdriver\n",
    "from selenium.webdriver.common.by import By\n",
    "from selenium.webdriver.chrome.service import Service\n",
    "from selenium.webdriver.chrome.options import Options\n",
    "import time\n",
    "\n",
    "\n"
   ]
  },
  {
   "cell_type": "code",
   "execution_count": 2,
   "id": "d8606305-5c62-4a46-84f0-e44a513deff7",
   "metadata": {},
   "outputs": [
    {
     "name": "stderr",
     "output_type": "stream",
     "text": [
      "The chromedriver version (134.0.6998.88) detected in PATH at C:\\chromedriver\\chromedriver.exe might not be compatible with the detected chrome version (135.0.7049.96); currently, chromedriver 135.0.7049.114 is recommended for chrome 135.*, so it is advised to delete the driver in PATH and retry\n"
     ]
    }
   ],
   "source": [
    "# Setup Chrome options\n",
    "chrome_options = Options()\n",
    "chrome_options.add_argument(\"--start-maximized\")\n",
    "chrome_options.add_argument(\"--disable-blink-features=AutomationControlled\")\n",
    "\n",
    "# Path to your ChromeDriver\n",
    "driver = webdriver.Chrome(options=chrome_options)\n",
    "\n",
    "# Open the URL\n",
    "url = \"https://www.99acres.com/property-in-rajasthan-ffid\"\n",
    "driver.get(url)\n",
    "\n",
    "# Scroll to load more data\n",
    "SCROLL_PAUSE_TIME = 3\n",
    "MAX_SCROLLS = 10  # change this to load more data\n",
    "\n",
    "last_height = driver.execute_script(\"return document.body.scrollHeight\")\n",
    "\n",
    "for _ in range(MAX_SCROLLS):\n",
    "    driver.execute_script(\"window.scrollTo(0, document.body.scrollHeight);\")\n",
    "    time.sleep(SCROLL_PAUSE_TIME)\n",
    "    new_height = driver.execute_script(\"return document.body.scrollHeight\")\n",
    "    if new_height == last_height:\n",
    "        break\n",
    "    last_height = new_height\n",
    "\n",
    "# Scrape property data\n",
    "properties = driver.find_elements(By.CSS_SELECTOR, \"div.projectTuple__tupleDetails\")\n",
    "\n",
    "data = []"
   ]
  },
  {
   "cell_type": "code",
   "execution_count": 3,
   "id": "cc8ecc15-f064-4959-b1b5-e22560ba51f4",
   "metadata": {},
   "outputs": [
    {
     "name": "stdout",
     "output_type": "stream",
     "text": [
      "Scraping complete. Data saved to rajasthan_properties.txt\n"
     ]
    }
   ],
   "source": [
    "\n",
    "for prop in properties:\n",
    "    try:\n",
    "        title = prop.find_element(By.CSS_SELECTOR, \"a.projectTuple__projectName\").text\n",
    "        location = prop.find_element(By.CSS_SELECTOR, \"h2.projectTuple__subHeading\").text\n",
    "        price = prop.find_element(By.CSS_SELECTOR, \"td.projectPrice\").text\n",
    "        details = f\"Title: {title}\\nLocation: {location}\\nPrice: {price}\\n{'-'*50}\\n\"\n",
    "        data.append(details)\n",
    "    except Exception as e:\n",
    "        print(\"Skipping a property due to:\", e)\n",
    "\n",
    "# Save to .txt file\n",
    "with open(\"rajasthan_properties.txt\", \"w\", encoding='utf-8') as f:\n",
    "    f.writelines(data)\n",
    "\n",
    "driver.quit()\n",
    "print(\"Scraping complete. Data saved to rajasthan_properties.txt\")\n"
   ]
  },
  {
   "cell_type": "code",
   "execution_count": null,
   "id": "f4e8b024-9310-405a-81e7-33313119fd3f",
   "metadata": {},
   "outputs": [],
   "source": []
  }
 ],
 "metadata": {
  "kernelspec": {
   "display_name": "Python 3 (ipykernel)",
   "language": "python",
   "name": "python3"
  },
  "language_info": {
   "codemirror_mode": {
    "name": "ipython",
    "version": 3
   },
   "file_extension": ".py",
   "mimetype": "text/x-python",
   "name": "python",
   "nbconvert_exporter": "python",
   "pygments_lexer": "ipython3",
   "version": "3.13.0"
  }
 },
 "nbformat": 4,
 "nbformat_minor": 5
}
