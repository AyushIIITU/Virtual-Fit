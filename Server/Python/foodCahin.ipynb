{
 "cells": [
  {
   "cell_type": "code",
   "execution_count": 1,
   "id": "abcfb76c-2d1e-478f-8197-f455e20a6121",
   "metadata": {},
   "outputs": [
    {
     "name": "stdout",
     "output_type": "stream",
     "text": [
      "Embeddings loaded successfully!\n"
     ]
    }
   ],
   "source": [
    "from langgraph.graph import StateGraph, END\n",
    "from typing import Annotated, TypedDict\n",
    "from searchFoodImage import get_food_name_from_google\n",
    "from FoodClassifer import classify_image_file\n",
    "from FoodNutients import find_best_match, get_food_details, find_best_food_match\n",
    "from langchain_ollama import ChatOllama\n",
    "from langchain_core.prompts import ChatPromptTemplate\n",
    "from langchain_core.runnables import RunnableLambda\n",
    "\n",
    "# Define image path\n",
    "image_path = \"testingFood.webp\"\n",
    "\n",
    "# LLMs\n",
    "llm = ChatOllama(model=\"llama3.1:8b\")\n",
    "llm2 = ChatOllama(model=\"gemma3:4b\")\n",
    "\n",
    "# Prompt to clean up food names\n",
    "query = \"\"\"Extract name of given food array in one line\n",
    "FoodArray: {food_array}\n",
    "Answer:\n",
    "\"\"\"\n",
    "prompt = ChatPromptTemplate.from_template(query)\n",
    "food_name_chain = prompt | llm2\n"
   ]
  },
  {
   "cell_type": "code",
   "execution_count": 2,
   "id": "38976f8e-5e8a-48f8-a7a4-5f6b8565ad36",
   "metadata": {},
   "outputs": [
    {
     "name": "stdout",
     "output_type": "stream",
     "text": [
      "Google Images opened\n",
      "No cookie dialog found or already accepted\n",
      "Clicked search button\n",
      "Uploaded image: C:\\Users\\ASUS\\Desktop\\VitualFit\\Server\\Python\\testingFood.webp\n",
      "Screenshot saved as debug_screenshot_results.png\n",
      "Related Searches: ['Fish as food', 'Salmon', 'Dill']\n",
      "Image Descriptions: ['Fish delivery in Alcamo | Order Online Now with Glovo', 'Filet Meunière Images – Browse 514 Stock Photos, Vectors, and Video | Adobe Stock', 'Nonveg Images – Browse 1,756 Stock Photos, Vectors, and Video | Adobe Stock', 'Close Up of a Meat and Vegetable Plate 45689849 Stock Photo at Vecteezy', 'A plate of salmon with a lemon and a lemon wedge | Premium AI-generated image']\n"
     ]
    }
   ],
   "source": [
    "image_type=await classify_image_file(image_path)\n",
    "image_name = get_food_name_from_google(image_path) if image_type['prediction'] == 'Food' else \"Non-Food\""
   ]
  },
  {
   "cell_type": "code",
   "execution_count": 3,
   "id": "24f3e66e-0a7a-41b4-a8a3-57f50f648073",
   "metadata": {},
   "outputs": [
    {
     "name": "stdout",
     "output_type": "stream",
     "text": [
      "['Fish as food', 'Salmon', 'Dill', 'Fish delivery in Alcamo | Order Online Now with Glovo', 'Filet Meunière Images – Browse 514 Stock Photos, Vectors, and Video | Adobe Stock', 'Nonveg Images – Browse 1,756 Stock Photos, Vectors, and Video | Adobe Stock', 'Close Up of a Meat and Vegetable Plate 45689849 Stock Photo at Vecteezy', 'A plate of salmon with a lemon and a lemon wedge | Premium AI-generated image']\n"
     ]
    }
   ],
   "source": [
    "print(image_name)\n"
   ]
  },
  {
   "cell_type": "code",
   "execution_count": 4,
   "id": "ba6edc47-d4f2-4cda-9ad6-0fa6410a00d3",
   "metadata": {
    "scrolled": true
   },
   "outputs": [],
   "source": [
    "best_image_name=find_best_food_match(image_name)"
   ]
  },
  {
   "cell_type": "code",
   "execution_count": 5,
   "id": "cbcd2b51-8f4d-4975-bed1-564e91d78fe0",
   "metadata": {},
   "outputs": [
    {
     "name": "stdout",
     "output_type": "stream",
     "text": [
      "salmon with lemon and dill\n"
     ]
    }
   ],
   "source": [
    "print(best_image_name)"
   ]
  },
  {
   "cell_type": "code",
   "execution_count": 6,
   "id": "e9f40a43-ac5b-4cf5-b757-e42edf8d81f1",
   "metadata": {},
   "outputs": [],
   "source": [
    "food_details=get_food_details(best_image_name)"
   ]
  },
  {
   "cell_type": "code",
   "execution_count": 7,
   "id": "98531205-f885-4366-8560-289822cf22ed",
   "metadata": {},
   "outputs": [
    {
     "name": "stdout",
     "output_type": "stream",
     "text": [
      "{'name': 'salmon with lemon and dill', 'id': 199260, 'minutes': 30, 'contributor_id': 8688, 'submitted': '2006-12-05', 'tags': \"['30-minutes-or-less', 'time-to-make', 'course', 'main-ingredient', 'preparation', 'very-low-carbs', 'main-dish', 'seafood', 'easy', 'salmon', 'fish', 'dietary', 'low-sodium', 'high-protein', 'low-carb', 'high-in-something', 'low-in-something', 'saltwater-fish']\", 'nutrition': '[240.8, 23.0, 1.0, 6.0, 46.0, 39.0, 0.0]', 'n_steps': 7, 'steps': \"['preheat your oven to 350 degrees f', 'spray baking dish with cooking spray , or lightly coat with butter', 'place salmon in baking dish', 'mix the butter and lemon juice in a small bowl , drizzle over salmon', 'season with dill , garlic powder , sea salt and freshly ground black pepper', 'bake for 25 minutes or until salmon flakes easily with fork', 'serves 4']\", 'description': 'looking for a quick delicious and healthy supper? i found this at allrecipes and it is wonderful!  i hope you will enjoy it also.', 'ingredients': \"['salmon fillet', 'butter', 'fresh lemon juice', 'dried dill weed', 'garlic powder', 'sea salt', 'fresh ground black pepper']\", 'n_ingredients': 7}\n"
     ]
    }
   ],
   "source": [
    "print(food_details)"
   ]
  },
  {
   "cell_type": "code",
   "execution_count": null,
   "id": "1eb69a4c-1bd5-43da-b73a-cb66e9f1181f",
   "metadata": {},
   "outputs": [],
   "source": []
  }
 ],
 "metadata": {
  "kernelspec": {
   "display_name": "Python 3 (ipykernel)",
   "language": "python",
   "name": "python3"
  },
  "language_info": {
   "codemirror_mode": {
    "name": "ipython",
    "version": 3
   },
   "file_extension": ".py",
   "mimetype": "text/x-python",
   "name": "python",
   "nbconvert_exporter": "python",
   "pygments_lexer": "ipython3",
   "version": "3.13.0"
  }
 },
 "nbformat": 4,
 "nbformat_minor": 5
}
