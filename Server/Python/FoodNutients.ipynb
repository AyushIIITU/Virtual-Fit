{
 "cells": [
  {
   "cell_type": "code",
   "execution_count": 2,
   "id": "33e093b6-022e-46df-b5e3-17bccadf86f5",
   "metadata": {},
   "outputs": [
    {
     "name": "stdout",
     "output_type": "stream",
     "text": [
      "Collecting undetected-chromedriver\n",
      "  Using cached undetected-chromedriver-3.5.5.tar.gz (65 kB)\n",
      "  Installing build dependencies: started\n",
      "  Installing build dependencies: finished with status 'done'\n",
      "  Getting requirements to build wheel: started\n",
      "  Getting requirements to build wheel: finished with status 'done'\n",
      "  Preparing metadata (pyproject.toml): started\n",
      "  Preparing metadata (pyproject.toml): finished with status 'done'\n",
      "Collecting selenium>=4.9.0 (from undetected-chromedriver)\n",
      "  Downloading selenium-4.30.0-py3-none-any.whl.metadata (7.5 kB)\n",
      "Requirement already satisfied: requests in c:\\users\\asus\\appdata\\local\\programs\\python\\python313\\lib\\site-packages (from undetected-chromedriver) (2.32.3)\n",
      "Collecting websockets (from undetected-chromedriver)\n",
      "  Using cached websockets-15.0.1-cp313-cp313-win_amd64.whl.metadata (7.0 kB)\n",
      "Requirement already satisfied: urllib3<3,>=1.26 in c:\\users\\asus\\appdata\\local\\programs\\python\\python313\\lib\\site-packages (from urllib3[socks]<3,>=1.26->selenium>=4.9.0->undetected-chromedriver) (2.3.0)\n",
      "Collecting trio~=0.17 (from selenium>=4.9.0->undetected-chromedriver)\n",
      "  Downloading trio-0.29.0-py3-none-any.whl.metadata (8.5 kB)\n",
      "Collecting trio-websocket~=0.9 (from selenium>=4.9.0->undetected-chromedriver)\n",
      "  Using cached trio_websocket-0.12.2-py3-none-any.whl.metadata (5.1 kB)\n",
      "Requirement already satisfied: certifi>=2021.10.8 in c:\\users\\asus\\appdata\\local\\programs\\python\\python313\\lib\\site-packages (from selenium>=4.9.0->undetected-chromedriver) (2025.1.31)\n",
      "Requirement already satisfied: typing_extensions~=4.9 in c:\\users\\asus\\appdata\\local\\programs\\python\\python313\\lib\\site-packages (from selenium>=4.9.0->undetected-chromedriver) (4.13.0)\n",
      "Requirement already satisfied: websocket-client~=1.8 in c:\\users\\asus\\appdata\\local\\programs\\python\\python313\\lib\\site-packages (from selenium>=4.9.0->undetected-chromedriver) (1.8.0)\n",
      "Requirement already satisfied: charset-normalizer<4,>=2 in c:\\users\\asus\\appdata\\local\\programs\\python\\python313\\lib\\site-packages (from requests->undetected-chromedriver) (3.4.1)\n",
      "Requirement already satisfied: idna<4,>=2.5 in c:\\users\\asus\\appdata\\local\\programs\\python\\python313\\lib\\site-packages (from requests->undetected-chromedriver) (3.10)\n",
      "Requirement already satisfied: attrs>=23.2.0 in c:\\users\\asus\\appdata\\local\\programs\\python\\python313\\lib\\site-packages (from trio~=0.17->selenium>=4.9.0->undetected-chromedriver) (25.3.0)\n",
      "Collecting sortedcontainers (from trio~=0.17->selenium>=4.9.0->undetected-chromedriver)\n",
      "  Using cached sortedcontainers-2.4.0-py2.py3-none-any.whl.metadata (10 kB)\n",
      "Collecting outcome (from trio~=0.17->selenium>=4.9.0->undetected-chromedriver)\n",
      "  Using cached outcome-1.3.0.post0-py2.py3-none-any.whl.metadata (2.6 kB)\n",
      "Requirement already satisfied: sniffio>=1.3.0 in c:\\users\\asus\\appdata\\local\\programs\\python\\python313\\lib\\site-packages (from trio~=0.17->selenium>=4.9.0->undetected-chromedriver) (1.3.1)\n",
      "Requirement already satisfied: cffi>=1.14 in c:\\users\\asus\\appdata\\local\\programs\\python\\python313\\lib\\site-packages (from trio~=0.17->selenium>=4.9.0->undetected-chromedriver) (1.17.1)\n",
      "Collecting wsproto>=0.14 (from trio-websocket~=0.9->selenium>=4.9.0->undetected-chromedriver)\n",
      "  Using cached wsproto-1.2.0-py3-none-any.whl.metadata (5.6 kB)\n",
      "Collecting pysocks!=1.5.7,<2.0,>=1.5.6 (from urllib3[socks]<3,>=1.26->selenium>=4.9.0->undetected-chromedriver)\n",
      "  Using cached PySocks-1.7.1-py3-none-any.whl.metadata (13 kB)\n",
      "Requirement already satisfied: pycparser in c:\\users\\asus\\appdata\\local\\programs\\python\\python313\\lib\\site-packages (from cffi>=1.14->trio~=0.17->selenium>=4.9.0->undetected-chromedriver) (2.22)\n",
      "Requirement already satisfied: h11<1,>=0.9.0 in c:\\users\\asus\\appdata\\local\\programs\\python\\python313\\lib\\site-packages (from wsproto>=0.14->trio-websocket~=0.9->selenium>=4.9.0->undetected-chromedriver) (0.14.0)\n",
      "Downloading selenium-4.30.0-py3-none-any.whl (9.4 MB)\n",
      "   ---------------------------------------- 0.0/9.4 MB ? eta -:--:--\n",
      "   ---------------------------------------- 0.0/9.4 MB ? eta -:--:--\n",
      "   - -------------------------------------- 0.3/9.4 MB ? eta -:--:--\n",
      "   - -------------------------------------- 0.3/9.4 MB ? eta -:--:--\n",
      "   --- ------------------------------------ 0.8/9.4 MB 1.2 MB/s eta 0:00:08\n",
      "   --- ------------------------------------ 0.8/9.4 MB 1.2 MB/s eta 0:00:08\n",
      "   ----- ---------------------------------- 1.3/9.4 MB 1.3 MB/s eta 0:00:07\n",
      "   ------ --------------------------------- 1.6/9.4 MB 1.3 MB/s eta 0:00:07\n",
      "   ------- -------------------------------- 1.8/9.4 MB 1.3 MB/s eta 0:00:06\n",
      "   ---------- ----------------------------- 2.4/9.4 MB 1.4 MB/s eta 0:00:05\n",
      "   ----------- ---------------------------- 2.6/9.4 MB 1.5 MB/s eta 0:00:05\n",
      "   ------------ --------------------------- 2.9/9.4 MB 1.5 MB/s eta 0:00:05\n",
      "   ------------- -------------------------- 3.1/9.4 MB 1.5 MB/s eta 0:00:05\n",
      "   -------------- ------------------------- 3.4/9.4 MB 1.4 MB/s eta 0:00:05\n",
      "   ---------------- ----------------------- 3.9/9.4 MB 1.4 MB/s eta 0:00:04\n",
      "   ----------------- ---------------------- 4.2/9.4 MB 1.4 MB/s eta 0:00:04\n",
      "   ----------------- ---------------------- 4.2/9.4 MB 1.4 MB/s eta 0:00:04\n",
      "   -------------------- ------------------- 4.7/9.4 MB 1.4 MB/s eta 0:00:04\n",
      "   --------------------- ------------------ 5.0/9.4 MB 1.4 MB/s eta 0:00:04\n",
      "   ---------------------- ----------------- 5.2/9.4 MB 1.4 MB/s eta 0:00:03\n",
      "   ---------------------- ----------------- 5.2/9.4 MB 1.4 MB/s eta 0:00:03\n",
      "   ----------------------- ---------------- 5.5/9.4 MB 1.3 MB/s eta 0:00:03\n",
      "   ------------------------ --------------- 5.8/9.4 MB 1.3 MB/s eta 0:00:03\n",
      "   ------------------------- -------------- 6.0/9.4 MB 1.3 MB/s eta 0:00:03\n",
      "   ------------------------- -------------- 6.0/9.4 MB 1.3 MB/s eta 0:00:03\n",
      "   -------------------------- ------------- 6.3/9.4 MB 1.2 MB/s eta 0:00:03\n",
      "   ---------------------------- ----------- 6.6/9.4 MB 1.3 MB/s eta 0:00:03\n",
      "   ----------------------------- ---------- 6.8/9.4 MB 1.2 MB/s eta 0:00:03\n",
      "   ------------------------------ --------- 7.1/9.4 MB 1.2 MB/s eta 0:00:02\n",
      "   ------------------------------- -------- 7.3/9.4 MB 1.2 MB/s eta 0:00:02\n",
      "   ------------------------------- -------- 7.3/9.4 MB 1.2 MB/s eta 0:00:02\n",
      "   -------------------------------- ------- 7.6/9.4 MB 1.2 MB/s eta 0:00:02\n",
      "   -------------------------------- ------- 7.6/9.4 MB 1.2 MB/s eta 0:00:02\n",
      "   --------------------------------- ------ 7.9/9.4 MB 1.2 MB/s eta 0:00:02\n",
      "   --------------------------------- ------ 7.9/9.4 MB 1.2 MB/s eta 0:00:02\n",
      "   --------------------------------- ------ 7.9/9.4 MB 1.2 MB/s eta 0:00:02\n",
      "   ---------------------------------- ----- 8.1/9.4 MB 1.1 MB/s eta 0:00:02\n",
      "   ---------------------------------- ----- 8.1/9.4 MB 1.1 MB/s eta 0:00:02\n",
      "   ----------------------------------- ---- 8.4/9.4 MB 1.1 MB/s eta 0:00:01\n",
      "   ----------------------------------- ---- 8.4/9.4 MB 1.1 MB/s eta 0:00:01\n",
      "   ------------------------------------ --- 8.7/9.4 MB 1.0 MB/s eta 0:00:01\n",
      "   ------------------------------------ --- 8.7/9.4 MB 1.0 MB/s eta 0:00:01\n",
      "   ------------------------------------ --- 8.7/9.4 MB 1.0 MB/s eta 0:00:01\n",
      "   -------------------------------------- - 8.9/9.4 MB 1.0 MB/s eta 0:00:01\n",
      "   -------------------------------------- - 8.9/9.4 MB 1.0 MB/s eta 0:00:01\n",
      "   -------------------------------------- - 8.9/9.4 MB 1.0 MB/s eta 0:00:01\n",
      "   ---------------------------------------  9.2/9.4 MB 960.0 kB/s eta 0:00:01\n",
      "   ---------------------------------------  9.2/9.4 MB 960.0 kB/s eta 0:00:01\n",
      "   ---------------------------------------  9.2/9.4 MB 960.0 kB/s eta 0:00:01\n",
      "   ---------------------------------------- 9.4/9.4 MB 904.9 kB/s eta 0:00:00\n",
      "Using cached websockets-15.0.1-cp313-cp313-win_amd64.whl (176 kB)\n",
      "Downloading trio-0.29.0-py3-none-any.whl (492 kB)\n",
      "Using cached trio_websocket-0.12.2-py3-none-any.whl (21 kB)\n",
      "Using cached outcome-1.3.0.post0-py2.py3-none-any.whl (10 kB)\n",
      "Using cached PySocks-1.7.1-py3-none-any.whl (16 kB)\n",
      "Using cached wsproto-1.2.0-py3-none-any.whl (24 kB)\n",
      "Using cached sortedcontainers-2.4.0-py2.py3-none-any.whl (29 kB)\n",
      "Building wheels for collected packages: undetected-chromedriver\n",
      "  Building wheel for undetected-chromedriver (pyproject.toml): started\n",
      "  Building wheel for undetected-chromedriver (pyproject.toml): finished with status 'done'\n",
      "  Created wheel for undetected-chromedriver: filename=undetected_chromedriver-3.5.5-py3-none-any.whl size=47214 sha256=4d687a24e8b0e2ec535b8939b9e20ec1b5142156c6fbd3a8615bb2ea4d39b081\n",
      "  Stored in directory: c:\\users\\asus\\appdata\\local\\pip\\cache\\wheels\\7a\\5f\\c1\\06f68421cc7172ef51504631252870bcb3a2fdf3b6a025f362\n",
      "Successfully built undetected-chromedriver\n",
      "Installing collected packages: sortedcontainers, wsproto, websockets, pysocks, outcome, trio, trio-websocket, selenium, undetected-chromedriver\n",
      "Successfully installed outcome-1.3.0.post0 pysocks-1.7.1 selenium-4.30.0 sortedcontainers-2.4.0 trio-0.29.0 trio-websocket-0.12.2 undetected-chromedriver-3.5.5 websockets-15.0.1 wsproto-1.2.0\n",
      "Note: you may need to restart the kernel to use updated packages.\n"
     ]
    }
   ],
   "source": [
    "pip install undetected-chromedriver"
   ]
  },
  {
   "cell_type": "code",
   "execution_count": 3,
   "id": "d22433e8-b4fd-4084-85d1-981ae44e1585",
   "metadata": {},
   "outputs": [
    {
     "name": "stdout",
     "output_type": "stream",
     "text": [
      "Requirement already satisfied: selenium in c:\\users\\asus\\appdata\\local\\programs\\python\\python313\\lib\\site-packages (4.30.0)\n",
      "Requirement already satisfied: urllib3<3,>=1.26 in c:\\users\\asus\\appdata\\local\\programs\\python\\python313\\lib\\site-packages (from urllib3[socks]<3,>=1.26->selenium) (2.3.0)\n",
      "Requirement already satisfied: trio~=0.17 in c:\\users\\asus\\appdata\\local\\programs\\python\\python313\\lib\\site-packages (from selenium) (0.29.0)\n",
      "Requirement already satisfied: trio-websocket~=0.9 in c:\\users\\asus\\appdata\\local\\programs\\python\\python313\\lib\\site-packages (from selenium) (0.12.2)\n",
      "Requirement already satisfied: certifi>=2021.10.8 in c:\\users\\asus\\appdata\\local\\programs\\python\\python313\\lib\\site-packages (from selenium) (2025.1.31)\n",
      "Requirement already satisfied: typing_extensions~=4.9 in c:\\users\\asus\\appdata\\local\\programs\\python\\python313\\lib\\site-packages (from selenium) (4.13.0)\n",
      "Requirement already satisfied: websocket-client~=1.8 in c:\\users\\asus\\appdata\\local\\programs\\python\\python313\\lib\\site-packages (from selenium) (1.8.0)\n",
      "Requirement already satisfied: attrs>=23.2.0 in c:\\users\\asus\\appdata\\local\\programs\\python\\python313\\lib\\site-packages (from trio~=0.17->selenium) (25.3.0)\n",
      "Requirement already satisfied: sortedcontainers in c:\\users\\asus\\appdata\\local\\programs\\python\\python313\\lib\\site-packages (from trio~=0.17->selenium) (2.4.0)\n",
      "Requirement already satisfied: idna in c:\\users\\asus\\appdata\\local\\programs\\python\\python313\\lib\\site-packages (from trio~=0.17->selenium) (3.10)\n",
      "Requirement already satisfied: outcome in c:\\users\\asus\\appdata\\local\\programs\\python\\python313\\lib\\site-packages (from trio~=0.17->selenium) (1.3.0.post0)\n",
      "Requirement already satisfied: sniffio>=1.3.0 in c:\\users\\asus\\appdata\\local\\programs\\python\\python313\\lib\\site-packages (from trio~=0.17->selenium) (1.3.1)\n",
      "Requirement already satisfied: cffi>=1.14 in c:\\users\\asus\\appdata\\local\\programs\\python\\python313\\lib\\site-packages (from trio~=0.17->selenium) (1.17.1)\n",
      "Requirement already satisfied: wsproto>=0.14 in c:\\users\\asus\\appdata\\local\\programs\\python\\python313\\lib\\site-packages (from trio-websocket~=0.9->selenium) (1.2.0)\n",
      "Requirement already satisfied: pysocks!=1.5.7,<2.0,>=1.5.6 in c:\\users\\asus\\appdata\\local\\programs\\python\\python313\\lib\\site-packages (from urllib3[socks]<3,>=1.26->selenium) (1.7.1)\n",
      "Requirement already satisfied: pycparser in c:\\users\\asus\\appdata\\local\\programs\\python\\python313\\lib\\site-packages (from cffi>=1.14->trio~=0.17->selenium) (2.22)\n",
      "Requirement already satisfied: h11<1,>=0.9.0 in c:\\users\\asus\\appdata\\local\\programs\\python\\python313\\lib\\site-packages (from wsproto>=0.14->trio-websocket~=0.9->selenium) (0.14.0)\n",
      "Note: you may need to restart the kernel to use updated packages.\n"
     ]
    }
   ],
   "source": [
    "pip install selenium"
   ]
  },
  {
   "cell_type": "code",
   "execution_count": 8,
   "id": "d268b2ba-786b-43bd-867a-e0bdeb72abdb",
   "metadata": {},
   "outputs": [
    {
     "name": "stdout",
     "output_type": "stream",
     "text": [
      "Requirement already satisfied: Pillow in c:\\users\\asus\\appdata\\local\\programs\\python\\python313\\lib\\site-packages (11.0.0)\n",
      "Collecting timm\n",
      "  Using cached timm-1.0.15-py3-none-any.whl.metadata (52 kB)\n",
      "Requirement already satisfied: torch in c:\\users\\asus\\appdata\\local\\programs\\python\\python313\\lib\\site-packages (from timm) (2.6.0+cu118)\n",
      "Requirement already satisfied: torchvision in c:\\users\\asus\\appdata\\local\\programs\\python\\python313\\lib\\site-packages (from timm) (0.21.0+cu118)\n",
      "Requirement already satisfied: pyyaml in c:\\users\\asus\\appdata\\local\\programs\\python\\python313\\lib\\site-packages (from timm) (6.0.2)\n",
      "Requirement already satisfied: huggingface_hub in c:\\users\\asus\\appdata\\local\\programs\\python\\python313\\lib\\site-packages (from timm) (0.30.1)\n",
      "Requirement already satisfied: safetensors in c:\\users\\asus\\appdata\\local\\programs\\python\\python313\\lib\\site-packages (from timm) (0.5.3)\n",
      "Requirement already satisfied: filelock in c:\\users\\asus\\appdata\\local\\programs\\python\\python313\\lib\\site-packages (from huggingface_hub->timm) (3.13.1)\n",
      "Requirement already satisfied: fsspec>=2023.5.0 in c:\\users\\asus\\appdata\\local\\programs\\python\\python313\\lib\\site-packages (from huggingface_hub->timm) (2024.6.1)\n",
      "Requirement already satisfied: packaging>=20.9 in c:\\users\\asus\\appdata\\local\\programs\\python\\python313\\lib\\site-packages (from huggingface_hub->timm) (24.2)\n",
      "Requirement already satisfied: requests in c:\\users\\asus\\appdata\\local\\programs\\python\\python313\\lib\\site-packages (from huggingface_hub->timm) (2.32.3)\n",
      "Requirement already satisfied: tqdm>=4.42.1 in c:\\users\\asus\\appdata\\local\\programs\\python\\python313\\lib\\site-packages (from huggingface_hub->timm) (4.67.1)\n",
      "Requirement already satisfied: typing-extensions>=3.7.4.3 in c:\\users\\asus\\appdata\\local\\programs\\python\\python313\\lib\\site-packages (from huggingface_hub->timm) (4.13.0)\n",
      "Requirement already satisfied: networkx in c:\\users\\asus\\appdata\\local\\programs\\python\\python313\\lib\\site-packages (from torch->timm) (3.3)\n",
      "Requirement already satisfied: jinja2 in c:\\users\\asus\\appdata\\local\\programs\\python\\python313\\lib\\site-packages (from torch->timm) (3.1.6)\n",
      "Requirement already satisfied: setuptools in c:\\users\\asus\\appdata\\local\\programs\\python\\python313\\lib\\site-packages (from torch->timm) (78.1.0)\n",
      "Requirement already satisfied: sympy==1.13.1 in c:\\users\\asus\\appdata\\local\\programs\\python\\python313\\lib\\site-packages (from torch->timm) (1.13.1)\n",
      "Requirement already satisfied: mpmath<1.4,>=1.1.0 in c:\\users\\asus\\appdata\\local\\programs\\python\\python313\\lib\\site-packages (from sympy==1.13.1->torch->timm) (1.3.0)\n",
      "Requirement already satisfied: numpy in c:\\users\\asus\\appdata\\local\\programs\\python\\python313\\lib\\site-packages (from torchvision->timm) (2.1.2)\n",
      "Requirement already satisfied: colorama in c:\\users\\asus\\appdata\\local\\programs\\python\\python313\\lib\\site-packages (from tqdm>=4.42.1->huggingface_hub->timm) (0.4.6)\n",
      "Requirement already satisfied: MarkupSafe>=2.0 in c:\\users\\asus\\appdata\\local\\programs\\python\\python313\\lib\\site-packages (from jinja2->torch->timm) (3.0.2)\n",
      "Requirement already satisfied: charset-normalizer<4,>=2 in c:\\users\\asus\\appdata\\local\\programs\\python\\python313\\lib\\site-packages (from requests->huggingface_hub->timm) (3.4.1)\n",
      "Requirement already satisfied: idna<4,>=2.5 in c:\\users\\asus\\appdata\\local\\programs\\python\\python313\\lib\\site-packages (from requests->huggingface_hub->timm) (3.10)\n",
      "Requirement already satisfied: urllib3<3,>=1.21.1 in c:\\users\\asus\\appdata\\local\\programs\\python\\python313\\lib\\site-packages (from requests->huggingface_hub->timm) (2.3.0)\n",
      "Requirement already satisfied: certifi>=2017.4.17 in c:\\users\\asus\\appdata\\local\\programs\\python\\python313\\lib\\site-packages (from requests->huggingface_hub->timm) (2025.1.31)\n",
      "Using cached timm-1.0.15-py3-none-any.whl (2.4 MB)\n",
      "Installing collected packages: timm\n",
      "Successfully installed timm-1.0.15\n",
      "Note: you may need to restart the kernel to use updated packages.\n"
     ]
    }
   ],
   "source": [
    "pip install Pillow timm"
   ]
  },
  {
   "cell_type": "code",
   "execution_count": 1,
   "id": "059105c7-82dc-4e69-96a3-a9ae06605433",
   "metadata": {},
   "outputs": [],
   "source": [
    "from foodTest import get_food_name_from_google"
   ]
  },
  {
   "cell_type": "code",
   "execution_count": 2,
   "id": "12cb73d4-ba27-488e-be43-80d4f83d2bf3",
   "metadata": {},
   "outputs": [],
   "source": [
    "from FoodClassifer import classify_image_file"
   ]
  },
  {
   "cell_type": "code",
   "execution_count": 3,
   "id": "c8ecb479-2551-464a-a8da-5c916644070e",
   "metadata": {},
   "outputs": [
    {
     "name": "stdout",
     "output_type": "stream",
     "text": [
      "Embeddings loaded successfully!\n"
     ]
    }
   ],
   "source": [
    "from FoodNutients import find_best_match,get_food_details"
   ]
  },
  {
   "cell_type": "code",
   "execution_count": 4,
   "id": "84d66056-206d-494b-a342-d230121fff78",
   "metadata": {},
   "outputs": [
    {
     "name": "stdout",
     "output_type": "stream",
     "text": [
      "Google Images opened\n",
      "No cookie dialog found or already accepted\n",
      "Error during search: Message: \n",
      "Stacktrace:\n",
      "\tGetHandleVerifier [0x0030D363+60275]\n",
      "\tGetHandleVerifier [0x0030D3A4+60340]\n",
      "\t(No symbol) [0x001406F3]\n",
      "\t(No symbol) [0x00188690]\n",
      "\t(No symbol) [0x00188A2B]\n",
      "\t(No symbol) [0x001D0EE2]\n",
      "\t(No symbol) [0x001AD0D4]\n",
      "\t(No symbol) [0x001CE6EB]\n",
      "\t(No symbol) [0x001ACE86]\n",
      "\t(No symbol) [0x0017C623]\n",
      "\t(No symbol) [0x0017D474]\n",
      "\tGetHandleVerifier [0x00558FE3+2467827]\n",
      "\tGetHandleVerifier [0x005545E6+2448886]\n",
      "\tGetHandleVerifier [0x0056F80C+2560028]\n",
      "\tGetHandleVerifier [0x00323DF5+153093]\n",
      "\tGetHandleVerifier [0x0032A3BD+179149]\n",
      "\tGetHandleVerifier [0x00314BB8+91080]\n",
      "\tGetHandleVerifier [0x00314D60+91504]\n",
      "\tGetHandleVerifier [0x002FFA10+4640]\n",
      "\tBaseThreadInitThunk [0x760E5D49+25]\n",
      "\tRtlInitializeExceptionChain [0x7775CF0B+107]\n",
      "\tRtlGetAppContainerNamedObjectPath [0x7775CE91+561]\n",
      "\t(No symbol) [0x00000000]\n",
      "\n"
     ]
    }
   ],
   "source": [
    "image_path=\"testingFood.webp\"\n",
    "image_type=await classify_image_file(image_path)\n",
    "image_name = get_food_name_from_google(image_path) if image_type['prediction'] == 'Food' else \"Non-Food\""
   ]
  },
  {
   "cell_type": "code",
   "execution_count": 23,
   "id": "97d6bd48-851f-428f-8fd1-c6479b69b735",
   "metadata": {},
   "outputs": [
    {
     "name": "stdout",
     "output_type": "stream",
     "text": [
      "['US retailers, seafood companies vie for share of Thanksgiving grocery sales boost | SeafoodSource', 'Tokyo - Japan\" Images – Browse 8,617 Stock Photos, Vectors, and Video | Adobe Stock', 'Delicious grilled salmon fillet served with fresh asparagus and lemon slices perfect for a healthy meal | Premium AI-generated image']\n"
     ]
    }
   ],
   "source": [
    "print(image_name)"
   ]
  },
  {
   "cell_type": "code",
   "execution_count": 6,
   "id": "8e027b17-699d-4f8a-ae2f-ea72f581c1e6",
   "metadata": {},
   "outputs": [],
   "source": [
    "from langchain_ollama import ChatOllama\n",
    "\n",
    "local_llm = \"llama3.1:8b\"\n",
    "llm = ChatOllama(model=local_llm)"
   ]
  },
  {
   "cell_type": "code",
   "execution_count": 25,
   "id": "c7ce98aa-ede8-4b5d-ba2c-f6e4ccc91f0e",
   "metadata": {},
   "outputs": [
    {
     "name": "stdout",
     "output_type": "stream",
     "text": [
      "Requirement already satisfied: langchain-core in c:\\users\\asus\\appdata\\local\\programs\\python\\python313\\lib\\site-packages (0.3.49)\n",
      "Requirement already satisfied: langsmith<0.4,>=0.1.125 in c:\\users\\asus\\appdata\\local\\programs\\python\\python313\\lib\\site-packages (from langchain-core) (0.3.19)\n",
      "Requirement already satisfied: tenacity!=8.4.0,<10.0.0,>=8.1.0 in c:\\users\\asus\\appdata\\local\\programs\\python\\python313\\lib\\site-packages (from langchain-core) (9.0.0)\n",
      "Requirement already satisfied: jsonpatch<2.0,>=1.33 in c:\\users\\asus\\appdata\\local\\programs\\python\\python313\\lib\\site-packages (from langchain-core) (1.33)\n",
      "Requirement already satisfied: PyYAML>=5.3 in c:\\users\\asus\\appdata\\local\\programs\\python\\python313\\lib\\site-packages (from langchain-core) (6.0.2)\n",
      "Requirement already satisfied: packaging<25,>=23.2 in c:\\users\\asus\\appdata\\local\\programs\\python\\python313\\lib\\site-packages (from langchain-core) (24.2)\n",
      "Requirement already satisfied: typing-extensions>=4.7 in c:\\users\\asus\\appdata\\local\\programs\\python\\python313\\lib\\site-packages (from langchain-core) (4.13.0)\n",
      "Requirement already satisfied: pydantic<3.0.0,>=2.7.4 in c:\\users\\asus\\appdata\\local\\programs\\python\\python313\\lib\\site-packages (from langchain-core) (2.11.1)\n",
      "Requirement already satisfied: jsonpointer>=1.9 in c:\\users\\asus\\appdata\\local\\programs\\python\\python313\\lib\\site-packages (from jsonpatch<2.0,>=1.33->langchain-core) (3.0.0)\n",
      "Requirement already satisfied: httpx<1,>=0.23.0 in c:\\users\\asus\\appdata\\local\\programs\\python\\python313\\lib\\site-packages (from langsmith<0.4,>=0.1.125->langchain-core) (0.28.1)\n",
      "Requirement already satisfied: orjson<4.0.0,>=3.9.14 in c:\\users\\asus\\appdata\\local\\programs\\python\\python313\\lib\\site-packages (from langsmith<0.4,>=0.1.125->langchain-core) (3.10.16)\n",
      "Requirement already satisfied: requests<3,>=2 in c:\\users\\asus\\appdata\\local\\programs\\python\\python313\\lib\\site-packages (from langsmith<0.4,>=0.1.125->langchain-core) (2.32.3)\n",
      "Requirement already satisfied: requests-toolbelt<2.0.0,>=1.0.0 in c:\\users\\asus\\appdata\\local\\programs\\python\\python313\\lib\\site-packages (from langsmith<0.4,>=0.1.125->langchain-core) (1.0.0)\n",
      "Requirement already satisfied: zstandard<0.24.0,>=0.23.0 in c:\\users\\asus\\appdata\\local\\programs\\python\\python313\\lib\\site-packages (from langsmith<0.4,>=0.1.125->langchain-core) (0.23.0)\n",
      "Requirement already satisfied: annotated-types>=0.6.0 in c:\\users\\asus\\appdata\\local\\programs\\python\\python313\\lib\\site-packages (from pydantic<3.0.0,>=2.7.4->langchain-core) (0.7.0)\n",
      "Requirement already satisfied: pydantic-core==2.33.0 in c:\\users\\asus\\appdata\\local\\programs\\python\\python313\\lib\\site-packages (from pydantic<3.0.0,>=2.7.4->langchain-core) (2.33.0)\n",
      "Requirement already satisfied: typing-inspection>=0.4.0 in c:\\users\\asus\\appdata\\local\\programs\\python\\python313\\lib\\site-packages (from pydantic<3.0.0,>=2.7.4->langchain-core) (0.4.0)\n",
      "Requirement already satisfied: anyio in c:\\users\\asus\\appdata\\local\\programs\\python\\python313\\lib\\site-packages (from httpx<1,>=0.23.0->langsmith<0.4,>=0.1.125->langchain-core) (4.9.0)\n",
      "Requirement already satisfied: certifi in c:\\users\\asus\\appdata\\local\\programs\\python\\python313\\lib\\site-packages (from httpx<1,>=0.23.0->langsmith<0.4,>=0.1.125->langchain-core) (2025.1.31)\n",
      "Requirement already satisfied: httpcore==1.* in c:\\users\\asus\\appdata\\local\\programs\\python\\python313\\lib\\site-packages (from httpx<1,>=0.23.0->langsmith<0.4,>=0.1.125->langchain-core) (1.0.7)\n",
      "Requirement already satisfied: idna in c:\\users\\asus\\appdata\\local\\programs\\python\\python313\\lib\\site-packages (from httpx<1,>=0.23.0->langsmith<0.4,>=0.1.125->langchain-core) (3.10)\n",
      "Requirement already satisfied: h11<0.15,>=0.13 in c:\\users\\asus\\appdata\\local\\programs\\python\\python313\\lib\\site-packages (from httpcore==1.*->httpx<1,>=0.23.0->langsmith<0.4,>=0.1.125->langchain-core) (0.14.0)\n",
      "Requirement already satisfied: charset-normalizer<4,>=2 in c:\\users\\asus\\appdata\\local\\programs\\python\\python313\\lib\\site-packages (from requests<3,>=2->langsmith<0.4,>=0.1.125->langchain-core) (3.4.1)\n",
      "Requirement already satisfied: urllib3<3,>=1.21.1 in c:\\users\\asus\\appdata\\local\\programs\\python\\python313\\lib\\site-packages (from requests<3,>=2->langsmith<0.4,>=0.1.125->langchain-core) (2.3.0)\n",
      "Requirement already satisfied: sniffio>=1.1 in c:\\users\\asus\\appdata\\local\\programs\\python\\python313\\lib\\site-packages (from anyio->httpx<1,>=0.23.0->langsmith<0.4,>=0.1.125->langchain-core) (1.3.1)\n",
      "Note: you may need to restart the kernel to use updated packages.\n"
     ]
    }
   ],
   "source": [
    "pip install langchain-core"
   ]
  },
  {
   "cell_type": "code",
   "execution_count": 32,
   "id": "c74199b6-fe9b-40fc-be56-9be6d960ac7c",
   "metadata": {},
   "outputs": [],
   "source": [
    "llm2=ChatOllama(model=\"gemma3:4b\") "
   ]
  },
  {
   "cell_type": "code",
   "execution_count": 36,
   "id": "9e254393-c900-4be9-acc1-0ea7d99abfab",
   "metadata": {},
   "outputs": [
    {
     "name": "stdout",
     "output_type": "stream",
     "text": [
      "salmon, seafood, asparagus, lemon\n",
      "\n"
     ]
    }
   ],
   "source": [
    "from langchain_core.prompts import (\n",
    "    SystemMessagePromptTemplate,\n",
    "    HumanMessagePromptTemplate,\n",
    "    ChatPromptTemplate\n",
    ")\n",
    "\n",
    "# Define the query template for extracting food names\n",
    "query = \"\"\"Extract name of given food array in one line\n",
    "FoodArray: {food_array}\n",
    "Answer:\n",
    "\"\"\"\n",
    "\n",
    "# Create a ChatPromptTemplate from the query\n",
    "prompt = ChatPromptTemplate.from_template(query)\n",
    "\n",
    "# Assuming 'llm' is already defined and initialized as your language model\n",
    "food_name_chain = prompt | llm2\n",
    "\n",
    "# Invoke the chain with the food_array parameter\n",
    "output = food_name_chain.invoke({'food_array': image_name})\n",
    "\n",
    "# Print the output\n",
    "print(output.content)\n"
   ]
  },
  {
   "cell_type": "code",
   "execution_count": 41,
   "id": "267e78bb-0109-4e14-b331-5c526f575677",
   "metadata": {},
   "outputs": [],
   "source": [
    "food_info=get_food_details(\"salmon\")"
   ]
  },
  {
   "cell_type": "code",
   "execution_count": 42,
   "id": "77796c52-f4e1-489c-a142-30733d60ccd7",
   "metadata": {},
   "outputs": [
    {
     "name": "stdout",
     "output_type": "stream",
     "text": [
      "{'name': 'salmon', 'id': 263470, 'minutes': 15, 'contributor_id': 39835, 'submitted': '2007-11-05', 'tags': \"['15-minutes-or-less', 'time-to-make', 'course', 'main-ingredient', 'preparation', 'very-low-carbs', 'main-dish', 'seafood', 'oven', 'easy', 'salmon', 'fish', 'dietary', 'low-sodium', 'low-saturated-fat', 'low-calorie', 'high-protein', 'low-carb', 'high-in-something', 'low-in-something', 'saltwater-fish', 'equipment']\", 'nutrition': '[285.0, 15.0, 0.0, 7.0, 92.0, 9.0, 0.0]', 'n_steps': 9, 'steps': '[\\'preheat oven to 450-degrees f\\', \\'salt both sides of the salmon\\', \\'on a large cookie sheet sprayed with pam , sear the fillet for 2 minutes on one side\\', \\'brush with 1 tablespoon of the honey per filet\\', \\'continue cooking the fish for 5-10 minutes or until fish is done\\', \"the original recipe turns the fish over , brushing both sides of the fish with the honey , but i didn\\'t bother turning over the fish and it still turned out delicious\", \\'to make red chile honey , mix together wild honey , new mexican red chile powder and a little crushed roasted garlic\\', \\'let the ingredients sit for 1 to 2 weeks\\', \\'this can be used not only as honey for the fish and for blue corn muffins / bread , but it can also be used in a sauce , butter or marinade adding a bit of a zip to the sauce / butter or marinade used on chicken or fish\\']', 'description': 'we eat fish every week so i am always looking for interesting and different (and still easy and quick) ways to cook salmon (our fish of choice) and came across this way which fits the bill at our house. this recipe calls for red chile honey (which i bought at whole foods)but it is a new mexico specialty, so a fellow zaar member asked me to give the ingredients and recipe for making your ownred chile honey(which i added to the ingredients and instructions -- but the honey needs to set for a while before using). the original recipe suggests serving this with black bean corn salsa, but we like it with baked potatoes and salad. this recipe is also very easy to adopt to how much fish you are using -- just add 1 tablespoon of honey per fillet. recipe source: coyote cafe', 'ingredients': \"['salmon fillets', 'sea salt', 'new mexico chile powder', 'garlic', 'honey']\", 'n_ingredients': 5}\n"
     ]
    }
   ],
   "source": [
    "print(food_info)"
   ]
  },
  {
   "cell_type": "code",
   "execution_count": null,
   "id": "884849d8-d234-4fd3-9f34-ecc047b0a7af",
   "metadata": {},
   "outputs": [],
   "source": []
  }
 ],
 "metadata": {
  "kernelspec": {
   "display_name": "Python 3 (ipykernel)",
   "language": "python",
   "name": "python3"
  },
  "language_info": {
   "codemirror_mode": {
    "name": "ipython",
    "version": 3
   },
   "file_extension": ".py",
   "mimetype": "text/x-python",
   "name": "python",
   "nbconvert_exporter": "python",
   "pygments_lexer": "ipython3",
   "version": "3.13.0"
  }
 },
 "nbformat": 4,
 "nbformat_minor": 5
}
