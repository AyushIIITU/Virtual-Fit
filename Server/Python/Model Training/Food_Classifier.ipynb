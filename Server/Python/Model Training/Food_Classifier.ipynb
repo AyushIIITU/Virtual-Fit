{
 "cells": [
  {
   "cell_type": "code",
   "execution_count": 7,
   "metadata": {
    "colab": {
     "base_uri": "https://localhost:8080/"
    },
    "id": "UH-uVvo25v_J",
    "outputId": "3e8999b9-feb3-44a8-868d-3b25aac0dbe4"
   },
   "outputs": [
    {
     "name": "stdout",
     "output_type": "stream",
     "text": [
      "Requirement already satisfied: kaggle in /usr/local/lib/python3.11/dist-packages (1.6.17)\n",
      "Requirement already satisfied: six>=1.10 in /usr/local/lib/python3.11/dist-packages (from kaggle) (1.17.0)\n",
      "Requirement already satisfied: certifi>=2023.7.22 in /usr/local/lib/python3.11/dist-packages (from kaggle) (2025.1.31)\n",
      "Requirement already satisfied: python-dateutil in /usr/local/lib/python3.11/dist-packages (from kaggle) (2.8.2)\n",
      "Requirement already satisfied: requests in /usr/local/lib/python3.11/dist-packages (from kaggle) (2.32.3)\n",
      "Requirement already satisfied: tqdm in /usr/local/lib/python3.11/dist-packages (from kaggle) (4.67.1)\n",
      "Requirement already satisfied: python-slugify in /usr/local/lib/python3.11/dist-packages (from kaggle) (8.0.4)\n",
      "Requirement already satisfied: urllib3 in /usr/local/lib/python3.11/dist-packages (from kaggle) (2.3.0)\n",
      "Requirement already satisfied: bleach in /usr/local/lib/python3.11/dist-packages (from kaggle) (6.2.0)\n",
      "Requirement already satisfied: webencodings in /usr/local/lib/python3.11/dist-packages (from bleach->kaggle) (0.5.1)\n",
      "Requirement already satisfied: text-unidecode>=1.3 in /usr/local/lib/python3.11/dist-packages (from python-slugify->kaggle) (1.3)\n",
      "Requirement already satisfied: charset-normalizer<4,>=2 in /usr/local/lib/python3.11/dist-packages (from requests->kaggle) (3.4.1)\n",
      "Requirement already satisfied: idna<4,>=2.5 in /usr/local/lib/python3.11/dist-packages (from requests->kaggle) (3.10)\n"
     ]
    }
   ],
   "source": [
    "!pip install kaggle"
   ]
  },
  {
   "cell_type": "code",
   "execution_count": 16,
   "metadata": {
    "colab": {
     "base_uri": "https://localhost:8080/"
    },
    "id": "hzy4j0M45yNj",
    "outputId": "f989d34e-5a16-4360-9534-e4a2ae38294a"
   },
   "outputs": [
    {
     "name": "stdout",
     "output_type": "stream",
     "text": [
      "Dataset downloaded to: ./Food-5K\n"
     ]
    }
   ],
   "source": [
    "import kagglehub\n",
    "import os\n",
    "import shutil\n",
    "\n",
    "# Download latest version\n",
    "dataset_path = kagglehub.dataset_download(\"trolukovich/food5k-image-dataset\")\n",
    "\n",
    "# Define the destination folder\n",
    "destination_folder = \"./Food-5K\"  # Or any other desired folder\n",
    "\n",
    "# Create the destination folder if it doesn't exist\n",
    "os.makedirs(destination_folder, exist_ok=True)\n",
    "\n",
    "# Move the downloaded dataset to the destination folder\n",
    "for filename in os.listdir(dataset_path):\n",
    "    source_path = os.path.join(dataset_path, filename)\n",
    "    destination_path = os.path.join(destination_folder, filename)\n",
    "    shutil.move(source_path, destination_path)\n",
    "\n",
    "print(\"Dataset downloaded to:\", destination_folder)"
   ]
  },
  {
   "cell_type": "code",
   "execution_count": 17,
   "metadata": {
    "colab": {
     "base_uri": "https://localhost:8080/"
    },
    "id": "EXNNCtnk6C6W",
    "outputId": "d534aff7-0839-4d48-9692-aa5db9bf875f"
   },
   "outputs": [
    {
     "name": "stdout",
     "output_type": "stream",
     "text": [
      "Dataset organized successfully!\n"
     ]
    }
   ],
   "source": [
    "import shutil\n",
    "import os\n",
    "\n",
    "# Define dataset paths\n",
    "dataset_path = \"Food-5K/training/\"  # Path to the extracted dataset\n",
    "food_dir = \"dataset/food/\"  # Destination for food images\n",
    "non_food_dir = \"dataset/non_food/\"  # Destination for non-food images\n",
    "\n",
    "# Create destination directories\n",
    "os.makedirs(food_dir, exist_ok=True)\n",
    "os.makedirs(non_food_dir, exist_ok=True)\n",
    "\n",
    "# Move images based on filename convention\n",
    "for filename in os.listdir(dataset_path):\n",
    "    src = os.path.join(dataset_path, filename)\n",
    "    if filename.startswith(\"0\"):  # Food images start with '0'\n",
    "        shutil.copy(src, os.path.join(food_dir, filename)) # Use copy instead of move to keep original files\n",
    "    elif filename.startswith(\"1\"):  # Non-food images start with '1'\n",
    "        shutil.copy(src, os.path.join(non_food_dir, filename)) # Use copy instead of move to keep original files\n",
    "\n",
    "print(\"Dataset organized successfully!\")"
   ]
  },
  {
   "cell_type": "code",
   "execution_count": 15,
   "metadata": {
    "colab": {
     "base_uri": "https://localhost:8080/"
    },
    "id": "mlbBcLLf7k-F",
    "outputId": "5db98591-b53e-4fa1-fcad-a70e6ce5cd62"
   },
   "outputs": [
    {
     "name": "stdout",
     "output_type": "stream",
     "text": [
      "The directory 'dataset' exists.\n",
      "  - Subdirectory 'food' exists.\n",
      "    - No files found in 'food'.\n",
      "  - Subdirectory 'non_food' exists.\n",
      "    - Files found in 'non_food': ['food', 'non_food']\n"
     ]
    }
   ],
   "source": [
    "import os\n",
    "\n",
    "# Define the dataset path\n",
    "dataset_path = \"dataset\"\n",
    "\n",
    "# Check if the dataset directory exists\n",
    "if os.path.exists(dataset_path):\n",
    "    print(f\"The directory '{dataset_path}' exists.\")\n",
    "\n",
    "    # Check for subdirectories and their contents\n",
    "    subdirectories = [\"food\", \"non_food\"]\n",
    "    for subdir in subdirectories:\n",
    "        subdir_path = os.path.join(dataset_path, subdir)\n",
    "        if os.path.exists(subdir_path):\n",
    "            print(f\"  - Subdirectory '{subdir}' exists.\")\n",
    "            # List files in the subdirectory\n",
    "            files = os.listdir(subdir_path)\n",
    "            if files:\n",
    "                print(f\"    - Files found in '{subdir}': {files[:5]}\")  # Print first 5 filenames\n",
    "            else:\n",
    "                print(f\"    - No files found in '{subdir}'.\")\n",
    "        else:\n",
    "            print(f\"  - Subdirectory '{subdir}' does not exist.\")\n",
    "\n",
    "else:\n",
    "    print(f\"The directory '{dataset_path}' does not exist.\")"
   ]
  },
  {
   "cell_type": "code",
   "execution_count": 18,
   "metadata": {
    "colab": {
     "base_uri": "https://localhost:8080/"
    },
    "id": "i5X5HuJk8eRw",
    "outputId": "7b429422-3c5d-416b-9741-c24d8a5d7b44"
   },
   "outputs": [
    {
     "name": "stdout",
     "output_type": "stream",
     "text": [
      "Moved files from 'non_food/food' to 'dataset/food'\n",
      "Moved files from 'non_food/non_food' to 'dataset/non_food'\n",
      "Folder structure fixed!\n"
     ]
    }
   ],
   "source": [
    "import os\n",
    "import shutil\n",
    "\n",
    "# Define dataset paths\n",
    "dataset_path = \"dataset\"\n",
    "food_dir = os.path.join(dataset_path, \"food\")\n",
    "non_food_dir = os.path.join(dataset_path, \"non_food\")\n",
    "\n",
    "# Move incorrectly placed folders to the correct location\n",
    "incorrect_food_dir = os.path.join(non_food_dir, \"food\")\n",
    "incorrect_non_food_dir = os.path.join(non_food_dir, \"non_food\")\n",
    "\n",
    "if os.path.exists(incorrect_food_dir):\n",
    "    # Move contents of incorrect_food_dir to food_dir\n",
    "    for item in os.listdir(incorrect_food_dir):\n",
    "        src = os.path.join(incorrect_food_dir, item)\n",
    "        dst = os.path.join(food_dir, item)\n",
    "        shutil.move(src, dst)\n",
    "    # Remove the empty incorrect_food_dir\n",
    "    os.rmdir(incorrect_food_dir)\n",
    "    print(\"Moved files from 'non_food/food' to 'dataset/food'\")\n",
    "\n",
    "if os.path.exists(incorrect_non_food_dir):\n",
    "    # Move contents of incorrect_non_food_dir to non_food_dir\n",
    "    for item in os.listdir(incorrect_non_food_dir):\n",
    "        src = os.path.join(incorrect_non_food_dir, item)\n",
    "        dst = os.path.join(non_food_dir, item)\n",
    "        shutil.move(src, dst)\n",
    "    # Remove the empty incorrect_non_food_dir\n",
    "    os.rmdir(incorrect_non_food_dir)\n",
    "    print(\"Moved files from 'non_food/non_food' to 'dataset/non_food'\")\n",
    "\n",
    "print(\"Folder structure fixed!\")"
   ]
  },
  {
   "cell_type": "code",
   "execution_count": 23,
   "metadata": {
    "colab": {
     "base_uri": "https://localhost:8080/"
    },
    "id": "FubwEQ1j8ncQ",
    "outputId": "c31b45da-846a-4ffc-ff83-be07004da2ef"
   },
   "outputs": [
    {
     "name": "stdout",
     "output_type": "stream",
     "text": [
      "Data loaded successfully!\n"
     ]
    }
   ],
   "source": [
    "import torch\n",
    "import torchvision.transforms as transforms\n",
    "from torchvision import datasets\n",
    "from torch.utils.data import DataLoader\n",
    "\n",
    "# Define transformations\n",
    "transform = transforms.Compose([\n",
    "    transforms.Resize((224, 224)),\n",
    "    transforms.ToTensor(),\n",
    "    transforms.Normalize([0.5], [0.5])\n",
    "])\n",
    "\n",
    "# Load dataset\n",
    "dataset = datasets.ImageFolder(root=\"dataset\", transform=transform)\n",
    "\n",
    "# Split into train and validation sets\n",
    "train_size = int(0.8 * len(dataset))\n",
    "val_size = len(dataset) - train_size\n",
    "train_dataset, val_dataset = torch.utils.data.random_split(dataset, [train_size, val_size])\n",
    "\n",
    "train_loader = DataLoader(train_dataset, batch_size=32, shuffle=True)\n",
    "val_loader = DataLoader(val_dataset, batch_size=32, shuffle=False)\n",
    "\n",
    "print(\"Data loaded successfully!\")\n"
   ]
  },
  {
   "cell_type": "code",
   "execution_count": 24,
   "metadata": {
    "colab": {
     "base_uri": "https://localhost:8080/",
     "height": 173,
     "referenced_widgets": [
      "c1fea9af8cea4a57b6c37a30d0659712",
      "950b58eff6974909a3d945bfe501d629",
      "4d0d400ed8054ac7bd15540c7cd248c4",
      "30f9f38cbc964d39ae7e8f611518e8ff",
      "53ecf65e7d6747f7821c7ed01d396e33",
      "99c522ecb1b74da39ce82ce03d386cfb",
      "e9f82d1111b043929f0748757623c7ff",
      "94e9cd898f924817bf581d4b4d82db17",
      "68ac5bc4db1f4d5bbfebaeebf76452df",
      "94960388c12b4ff69414db3da2c40a32",
      "952296d6b6344734ab30285a67e01bae"
     ]
    },
    "id": "MGCyYkMu851w",
    "outputId": "2a666c75-1ffb-4879-c893-da85de602148"
   },
   "outputs": [
    {
     "name": "stderr",
     "output_type": "stream",
     "text": [
      "/usr/local/lib/python3.11/dist-packages/huggingface_hub/utils/_auth.py:94: UserWarning: \n",
      "The secret `HF_TOKEN` does not exist in your Colab secrets.\n",
      "To authenticate with the Hugging Face Hub, create a token in your settings tab (https://huggingface.co/settings/tokens), set it as secret in your Google Colab and restart your session.\n",
      "You will be able to reuse this secret in all of your notebooks.\n",
      "Please note that authentication is recommended but still optional to access public models or datasets.\n",
      "  warnings.warn(\n"
     ]
    },
    {
     "data": {
      "application/vnd.jupyter.widget-view+json": {
       "model_id": "c1fea9af8cea4a57b6c37a30d0659712",
       "version_major": 2,
       "version_minor": 0
      },
      "text/plain": [
       "model.safetensors:   0%|          | 0.00/346M [00:00<?, ?B/s]"
      ]
     },
     "metadata": {},
     "output_type": "display_data"
    }
   ],
   "source": [
    "import timm\n",
    "import torch.nn as nn\n",
    "\n",
    "class FoodClassifier(nn.Module):\n",
    "    def __init__(self, num_classes=2):\n",
    "        super(FoodClassifier, self).__init__()\n",
    "        self.model = timm.create_model('vit_base_patch16_224', pretrained=True)\n",
    "        self.model.head = nn.Linear(self.model.head.in_features, num_classes)  # Modify classifier\n",
    "\n",
    "    def forward(self, x):\n",
    "        return self.model(x)\n",
    "\n",
    "# Initialize model\n",
    "device = torch.device(\"cuda\" if torch.cuda.is_available() else \"cpu\")\n",
    "model = FoodClassifier().to(device)\n"
   ]
  },
  {
   "cell_type": "code",
   "execution_count": 25,
   "metadata": {
    "colab": {
     "base_uri": "https://localhost:8080/"
    },
    "id": "79AU5IGY8pFA",
    "outputId": "46a5b341-a835-4708-b51b-c096f5dbfdea"
   },
   "outputs": [
    {
     "name": "stdout",
     "output_type": "stream",
     "text": [
      "Epoch [1/5], Loss: 0.1226\n",
      "Epoch [2/5], Loss: 0.0239\n",
      "Epoch [3/5], Loss: 0.0269\n",
      "Epoch [4/5], Loss: 0.0290\n",
      "Epoch [5/5], Loss: 0.0187\n"
     ]
    }
   ],
   "source": [
    "import torch.optim as optim\n",
    "import torch.nn as nn # Import the necessary module\n",
    "\n",
    "# Define loss and optimizer\n",
    "criterion = nn.CrossEntropyLoss()\n",
    "optimizer = optim.Adam(model.parameters(), lr=0.0001)\n",
    "\n",
    "# Training loop\n",
    "num_epochs = 5\n",
    "\n",
    "for epoch in range(num_epochs):\n",
    "    model.train()\n",
    "    total_loss = 0\n",
    "\n",
    "    for images, labels in train_loader:\n",
    "        images, labels = images.to(device), labels.to(device)\n",
    "\n",
    "        optimizer.zero_grad()\n",
    "        outputs = model(images)\n",
    "        loss = criterion(outputs, labels)\n",
    "        loss.backward()\n",
    "        optimizer.step()\n",
    "\n",
    "        total_loss += loss.item()\n",
    "\n",
    "    print(f\"Epoch [{epoch+1}/{num_epochs}], Loss: {total_loss / len(train_loader):.4f}\")"
   ]
  },
  {
   "cell_type": "code",
   "execution_count": 26,
   "metadata": {
    "colab": {
     "base_uri": "https://localhost:8080/"
    },
    "id": "hRkOlayF-y63",
    "outputId": "97f41e3a-45ed-4875-88a0-60c88083f63f"
   },
   "outputs": [
    {
     "name": "stdout",
     "output_type": "stream",
     "text": [
      "Validation Accuracy: 98.50%\n"
     ]
    }
   ],
   "source": [
    "model.eval()\n",
    "correct, total = 0, 0\n",
    "\n",
    "with torch.no_grad():\n",
    "    for images, labels in val_loader:\n",
    "        images, labels = images.to(device), labels.to(device)\n",
    "        outputs = model(images)\n",
    "        _, predicted = torch.max(outputs, 1)\n",
    "        total += labels.size(0)\n",
    "        correct += (predicted == labels).sum().item()\n",
    "\n",
    "accuracy = 100 * correct / total\n",
    "print(f'Validation Accuracy: {accuracy:.2f}%')\n"
   ]
  },
  {
   "cell_type": "code",
   "execution_count": 28,
   "metadata": {
    "colab": {
     "base_uri": "https://localhost:8080/"
    },
    "id": "QOL_gcp1--Qa",
    "outputId": "a886adb3-a1a7-46da-b82c-be81c165d608"
   },
   "outputs": [
    {
     "name": "stdout",
     "output_type": "stream",
     "text": [
      "Model saved to food_classifier_vit.pth\n"
     ]
    }
   ],
   "source": [
    "# Define the path to save the model\n",
    "model_path = \"food_classifier_vit.pth\"\n",
    "\n",
    "# Save the model state dictionary\n",
    "torch.save(model.state_dict(), model_path)\n",
    "\n",
    "print(f\"Model saved to {model_path}\")\n"
   ]
  },
  {
   "cell_type": "code",
   "execution_count": 29,
   "metadata": {
    "colab": {
     "base_uri": "https://localhost:8080/"
    },
    "id": "D-vGoutl_kWk",
    "outputId": "5521153f-b324-4606-ba64-e441e926383f"
   },
   "outputs": [
    {
     "name": "stderr",
     "output_type": "stream",
     "text": [
      "<ipython-input-29-36a137873512>:24: FutureWarning: You are using `torch.load` with `weights_only=False` (the current default value), which uses the default pickle module implicitly. It is possible to construct malicious pickle data which will execute arbitrary code during unpickling (See https://github.com/pytorch/pytorch/blob/main/SECURITY.md#untrusted-models for more details). In a future release, the default value for `weights_only` will be flipped to `True`. This limits the functions that could be executed during unpickling. Arbitrary objects will no longer be allowed to be loaded via this mode unless they are explicitly allowlisted by the user via `torch.serialization.add_safe_globals`. We recommend you start setting `weights_only=True` for any use case where you don't have full control of the loaded file. Please open an issue on GitHub for any issues related to this experimental feature.\n",
      "  model.load_state_dict(torch.load(\"food_classifier_vit.pth\", map_location=device))\n"
     ]
    },
    {
     "name": "stdout",
     "output_type": "stream",
     "text": [
      "Model loaded successfully!\n"
     ]
    }
   ],
   "source": [
    "import torch\n",
    "import torchvision.transforms as transforms\n",
    "from PIL import Image\n",
    "import timm\n",
    "import torch.nn as nn\n",
    "\n",
    "# Define the device\n",
    "device = torch.device(\"cuda\" if torch.cuda.is_available() else \"cpu\")\n",
    "\n",
    "# Define the model architecture\n",
    "class FoodClassifier(nn.Module):\n",
    "    def __init__(self, num_classes=2):\n",
    "        super(FoodClassifier, self).__init__()\n",
    "        self.model = timm.create_model('vit_base_patch16_224', pretrained=False)\n",
    "        self.model.head = nn.Linear(self.model.head.in_features, num_classes)  # Modify classifier\n",
    "\n",
    "    def forward(self, x):\n",
    "        return self.model(x)\n",
    "\n",
    "# Initialize model\n",
    "model = FoodClassifier().to(device)\n",
    "\n",
    "# Load model weights\n",
    "model.load_state_dict(torch.load(\"food_classifier_vit.pth\", map_location=device))\n",
    "model.eval()  # Set model to evaluation mode\n",
    "\n",
    "print(\"Model loaded successfully!\")\n"
   ]
  },
  {
   "cell_type": "code",
   "execution_count": 30,
   "metadata": {
    "id": "XB9d1Z4l_ngx"
   },
   "outputs": [],
   "source": [
    "# Define image transformations\n",
    "transform = transforms.Compose([\n",
    "    transforms.Resize((224, 224)),\n",
    "    transforms.ToTensor(),\n",
    "    transforms.Normalize([0.5], [0.5])  # Normalization\n",
    "])\n"
   ]
  },
  {
   "cell_type": "code",
   "execution_count": 32,
   "metadata": {
    "colab": {
     "base_uri": "https://localhost:8080/"
    },
    "id": "TWlOPpdT_piC",
    "outputId": "cd066925-bd5a-46d6-e52d-938fff57c7c4"
   },
   "outputs": [
    {
     "name": "stdout",
     "output_type": "stream",
     "text": [
      "Predicted Class: Non-Food\n"
     ]
    }
   ],
   "source": [
    "def classify_image(image_path, model):\n",
    "    # Load and preprocess the image\n",
    "    image = Image.open(image_path).convert('RGB')\n",
    "    image = transform(image).unsqueeze(0).to(device)  # Add batch dimension\n",
    "\n",
    "    # Make prediction\n",
    "    with torch.no_grad():\n",
    "        output = model(image)\n",
    "        _, predicted = torch.max(output, 1)\n",
    "\n",
    "    # Class labels\n",
    "    labels = [\"Food\", \"Non-Food\"]\n",
    "\n",
    "    return labels[predicted.item()]\n",
    "\n",
    "# Test on an image\n",
    "image_path = \"test-2.jpeg\"  # Replace with the actual image path\n",
    "result = classify_image(image_path, model)\n",
    "print(f\"Predicted Class: {result}\")\n"
   ]
  }
 ],
 "metadata": {
  "accelerator": "GPU",
  "colab": {
   "gpuType": "T4",
   "provenance": []
  },
  "kernelspec": {
   "display_name": "Python 3 (ipykernel)",
   "language": "python",
   "name": "python3"
  },
  "language_info": {
   "codemirror_mode": {
    "name": "ipython",
    "version": 3
   },
   "file_extension": ".py",
   "mimetype": "text/x-python",
   "name": "python",
   "nbconvert_exporter": "python",
   "pygments_lexer": "ipython3",
   "version": "3.13.0"
  },
  "widgets": {
   "application/vnd.jupyter.widget-state+json": {
    "30f9f38cbc964d39ae7e8f611518e8ff": {
     "model_module": "@jupyter-widgets/controls",
     "model_module_version": "1.5.0",
     "model_name": "HTMLModel",
     "state": {
      "_dom_classes": [],
      "_model_module": "@jupyter-widgets/controls",
      "_model_module_version": "1.5.0",
      "_model_name": "HTMLModel",
      "_view_count": null,
      "_view_module": "@jupyter-widgets/controls",
      "_view_module_version": "1.5.0",
      "_view_name": "HTMLView",
      "description": "",
      "description_tooltip": null,
      "layout": "IPY_MODEL_94960388c12b4ff69414db3da2c40a32",
      "placeholder": "​",
      "style": "IPY_MODEL_952296d6b6344734ab30285a67e01bae",
      "value": " 346M/346M [00:02&lt;00:00, 169MB/s]"
     }
    },
    "4d0d400ed8054ac7bd15540c7cd248c4": {
     "model_module": "@jupyter-widgets/controls",
     "model_module_version": "1.5.0",
     "model_name": "FloatProgressModel",
     "state": {
      "_dom_classes": [],
      "_model_module": "@jupyter-widgets/controls",
      "_model_module_version": "1.5.0",
      "_model_name": "FloatProgressModel",
      "_view_count": null,
      "_view_module": "@jupyter-widgets/controls",
      "_view_module_version": "1.5.0",
      "_view_name": "ProgressView",
      "bar_style": "success",
      "description": "",
      "description_tooltip": null,
      "layout": "IPY_MODEL_94e9cd898f924817bf581d4b4d82db17",
      "max": 346284714,
      "min": 0,
      "orientation": "horizontal",
      "style": "IPY_MODEL_68ac5bc4db1f4d5bbfebaeebf76452df",
      "value": 346284714
     }
    },
    "53ecf65e7d6747f7821c7ed01d396e33": {
     "model_module": "@jupyter-widgets/base",
     "model_module_version": "1.2.0",
     "model_name": "LayoutModel",
     "state": {
      "_model_module": "@jupyter-widgets/base",
      "_model_module_version": "1.2.0",
      "_model_name": "LayoutModel",
      "_view_count": null,
      "_view_module": "@jupyter-widgets/base",
      "_view_module_version": "1.2.0",
      "_view_name": "LayoutView",
      "align_content": null,
      "align_items": null,
      "align_self": null,
      "border": null,
      "bottom": null,
      "display": null,
      "flex": null,
      "flex_flow": null,
      "grid_area": null,
      "grid_auto_columns": null,
      "grid_auto_flow": null,
      "grid_auto_rows": null,
      "grid_column": null,
      "grid_gap": null,
      "grid_row": null,
      "grid_template_areas": null,
      "grid_template_columns": null,
      "grid_template_rows": null,
      "height": null,
      "justify_content": null,
      "justify_items": null,
      "left": null,
      "margin": null,
      "max_height": null,
      "max_width": null,
      "min_height": null,
      "min_width": null,
      "object_fit": null,
      "object_position": null,
      "order": null,
      "overflow": null,
      "overflow_x": null,
      "overflow_y": null,
      "padding": null,
      "right": null,
      "top": null,
      "visibility": null,
      "width": null
     }
    },
    "68ac5bc4db1f4d5bbfebaeebf76452df": {
     "model_module": "@jupyter-widgets/controls",
     "model_module_version": "1.5.0",
     "model_name": "ProgressStyleModel",
     "state": {
      "_model_module": "@jupyter-widgets/controls",
      "_model_module_version": "1.5.0",
      "_model_name": "ProgressStyleModel",
      "_view_count": null,
      "_view_module": "@jupyter-widgets/base",
      "_view_module_version": "1.2.0",
      "_view_name": "StyleView",
      "bar_color": null,
      "description_width": ""
     }
    },
    "94960388c12b4ff69414db3da2c40a32": {
     "model_module": "@jupyter-widgets/base",
     "model_module_version": "1.2.0",
     "model_name": "LayoutModel",
     "state": {
      "_model_module": "@jupyter-widgets/base",
      "_model_module_version": "1.2.0",
      "_model_name": "LayoutModel",
      "_view_count": null,
      "_view_module": "@jupyter-widgets/base",
      "_view_module_version": "1.2.0",
      "_view_name": "LayoutView",
      "align_content": null,
      "align_items": null,
      "align_self": null,
      "border": null,
      "bottom": null,
      "display": null,
      "flex": null,
      "flex_flow": null,
      "grid_area": null,
      "grid_auto_columns": null,
      "grid_auto_flow": null,
      "grid_auto_rows": null,
      "grid_column": null,
      "grid_gap": null,
      "grid_row": null,
      "grid_template_areas": null,
      "grid_template_columns": null,
      "grid_template_rows": null,
      "height": null,
      "justify_content": null,
      "justify_items": null,
      "left": null,
      "margin": null,
      "max_height": null,
      "max_width": null,
      "min_height": null,
      "min_width": null,
      "object_fit": null,
      "object_position": null,
      "order": null,
      "overflow": null,
      "overflow_x": null,
      "overflow_y": null,
      "padding": null,
      "right": null,
      "top": null,
      "visibility": null,
      "width": null
     }
    },
    "94e9cd898f924817bf581d4b4d82db17": {
     "model_module": "@jupyter-widgets/base",
     "model_module_version": "1.2.0",
     "model_name": "LayoutModel",
     "state": {
      "_model_module": "@jupyter-widgets/base",
      "_model_module_version": "1.2.0",
      "_model_name": "LayoutModel",
      "_view_count": null,
      "_view_module": "@jupyter-widgets/base",
      "_view_module_version": "1.2.0",
      "_view_name": "LayoutView",
      "align_content": null,
      "align_items": null,
      "align_self": null,
      "border": null,
      "bottom": null,
      "display": null,
      "flex": null,
      "flex_flow": null,
      "grid_area": null,
      "grid_auto_columns": null,
      "grid_auto_flow": null,
      "grid_auto_rows": null,
      "grid_column": null,
      "grid_gap": null,
      "grid_row": null,
      "grid_template_areas": null,
      "grid_template_columns": null,
      "grid_template_rows": null,
      "height": null,
      "justify_content": null,
      "justify_items": null,
      "left": null,
      "margin": null,
      "max_height": null,
      "max_width": null,
      "min_height": null,
      "min_width": null,
      "object_fit": null,
      "object_position": null,
      "order": null,
      "overflow": null,
      "overflow_x": null,
      "overflow_y": null,
      "padding": null,
      "right": null,
      "top": null,
      "visibility": null,
      "width": null
     }
    },
    "950b58eff6974909a3d945bfe501d629": {
     "model_module": "@jupyter-widgets/controls",
     "model_module_version": "1.5.0",
     "model_name": "HTMLModel",
     "state": {
      "_dom_classes": [],
      "_model_module": "@jupyter-widgets/controls",
      "_model_module_version": "1.5.0",
      "_model_name": "HTMLModel",
      "_view_count": null,
      "_view_module": "@jupyter-widgets/controls",
      "_view_module_version": "1.5.0",
      "_view_name": "HTMLView",
      "description": "",
      "description_tooltip": null,
      "layout": "IPY_MODEL_99c522ecb1b74da39ce82ce03d386cfb",
      "placeholder": "​",
      "style": "IPY_MODEL_e9f82d1111b043929f0748757623c7ff",
      "value": "model.safetensors: 100%"
     }
    },
    "952296d6b6344734ab30285a67e01bae": {
     "model_module": "@jupyter-widgets/controls",
     "model_module_version": "1.5.0",
     "model_name": "DescriptionStyleModel",
     "state": {
      "_model_module": "@jupyter-widgets/controls",
      "_model_module_version": "1.5.0",
      "_model_name": "DescriptionStyleModel",
      "_view_count": null,
      "_view_module": "@jupyter-widgets/base",
      "_view_module_version": "1.2.0",
      "_view_name": "StyleView",
      "description_width": ""
     }
    },
    "99c522ecb1b74da39ce82ce03d386cfb": {
     "model_module": "@jupyter-widgets/base",
     "model_module_version": "1.2.0",
     "model_name": "LayoutModel",
     "state": {
      "_model_module": "@jupyter-widgets/base",
      "_model_module_version": "1.2.0",
      "_model_name": "LayoutModel",
      "_view_count": null,
      "_view_module": "@jupyter-widgets/base",
      "_view_module_version": "1.2.0",
      "_view_name": "LayoutView",
      "align_content": null,
      "align_items": null,
      "align_self": null,
      "border": null,
      "bottom": null,
      "display": null,
      "flex": null,
      "flex_flow": null,
      "grid_area": null,
      "grid_auto_columns": null,
      "grid_auto_flow": null,
      "grid_auto_rows": null,
      "grid_column": null,
      "grid_gap": null,
      "grid_row": null,
      "grid_template_areas": null,
      "grid_template_columns": null,
      "grid_template_rows": null,
      "height": null,
      "justify_content": null,
      "justify_items": null,
      "left": null,
      "margin": null,
      "max_height": null,
      "max_width": null,
      "min_height": null,
      "min_width": null,
      "object_fit": null,
      "object_position": null,
      "order": null,
      "overflow": null,
      "overflow_x": null,
      "overflow_y": null,
      "padding": null,
      "right": null,
      "top": null,
      "visibility": null,
      "width": null
     }
    },
    "c1fea9af8cea4a57b6c37a30d0659712": {
     "model_module": "@jupyter-widgets/controls",
     "model_module_version": "1.5.0",
     "model_name": "HBoxModel",
     "state": {
      "_dom_classes": [],
      "_model_module": "@jupyter-widgets/controls",
      "_model_module_version": "1.5.0",
      "_model_name": "HBoxModel",
      "_view_count": null,
      "_view_module": "@jupyter-widgets/controls",
      "_view_module_version": "1.5.0",
      "_view_name": "HBoxView",
      "box_style": "",
      "children": [
       "IPY_MODEL_950b58eff6974909a3d945bfe501d629",
       "IPY_MODEL_4d0d400ed8054ac7bd15540c7cd248c4",
       "IPY_MODEL_30f9f38cbc964d39ae7e8f611518e8ff"
      ],
      "layout": "IPY_MODEL_53ecf65e7d6747f7821c7ed01d396e33"
     }
    },
    "e9f82d1111b043929f0748757623c7ff": {
     "model_module": "@jupyter-widgets/controls",
     "model_module_version": "1.5.0",
     "model_name": "DescriptionStyleModel",
     "state": {
      "_model_module": "@jupyter-widgets/controls",
      "_model_module_version": "1.5.0",
      "_model_name": "DescriptionStyleModel",
      "_view_count": null,
      "_view_module": "@jupyter-widgets/base",
      "_view_module_version": "1.2.0",
      "_view_name": "StyleView",
      "description_width": ""
     }
    }
   }
  }
 },
 "nbformat": 4,
 "nbformat_minor": 4
}
