{
 "cells": [
  {
   "cell_type": "code",
   "execution_count": 2,
   "id": "b5e53147-d312-41d6-9222-2bf910758d37",
   "metadata": {},
   "outputs": [
    {
     "name": "stdout",
     "output_type": "stream",
     "text": [
      "Requirement already satisfied: langgraph in c:\\users\\asus\\appdata\\local\\programs\\python\\python313\\lib\\site-packages (0.3.21)\n",
      "Requirement already satisfied: langchain-core<0.4,>=0.1 in c:\\users\\asus\\appdata\\local\\programs\\python\\python313\\lib\\site-packages (from langgraph) (0.3.49)\n",
      "Requirement already satisfied: langgraph-checkpoint<3.0.0,>=2.0.10 in c:\\users\\asus\\appdata\\local\\programs\\python\\python313\\lib\\site-packages (from langgraph) (2.0.23)\n",
      "Requirement already satisfied: langgraph-prebuilt<0.2,>=0.1.1 in c:\\users\\asus\\appdata\\local\\programs\\python\\python313\\lib\\site-packages (from langgraph) (0.1.7)\n",
      "Requirement already satisfied: langgraph-sdk<0.2.0,>=0.1.42 in c:\\users\\asus\\appdata\\local\\programs\\python\\python313\\lib\\site-packages (from langgraph) (0.1.60)\n",
      "Requirement already satisfied: xxhash<4.0.0,>=3.5.0 in c:\\users\\asus\\appdata\\local\\programs\\python\\python313\\lib\\site-packages (from langgraph) (3.5.0)\n",
      "Requirement already satisfied: langsmith<0.4,>=0.1.125 in c:\\users\\asus\\appdata\\local\\programs\\python\\python313\\lib\\site-packages (from langchain-core<0.4,>=0.1->langgraph) (0.3.19)\n",
      "Requirement already satisfied: tenacity!=8.4.0,<10.0.0,>=8.1.0 in c:\\users\\asus\\appdata\\local\\programs\\python\\python313\\lib\\site-packages (from langchain-core<0.4,>=0.1->langgraph) (9.0.0)\n",
      "Requirement already satisfied: jsonpatch<2.0,>=1.33 in c:\\users\\asus\\appdata\\local\\programs\\python\\python313\\lib\\site-packages (from langchain-core<0.4,>=0.1->langgraph) (1.33)\n",
      "Requirement already satisfied: PyYAML>=5.3 in c:\\users\\asus\\appdata\\local\\programs\\python\\python313\\lib\\site-packages (from langchain-core<0.4,>=0.1->langgraph) (6.0.2)\n",
      "Requirement already satisfied: packaging<25,>=23.2 in c:\\users\\asus\\appdata\\local\\programs\\python\\python313\\lib\\site-packages (from langchain-core<0.4,>=0.1->langgraph) (24.2)\n",
      "Requirement already satisfied: typing-extensions>=4.7 in c:\\users\\asus\\appdata\\local\\programs\\python\\python313\\lib\\site-packages (from langchain-core<0.4,>=0.1->langgraph) (4.13.0)\n",
      "Requirement already satisfied: pydantic<3.0.0,>=2.7.4 in c:\\users\\asus\\appdata\\local\\programs\\python\\python313\\lib\\site-packages (from langchain-core<0.4,>=0.1->langgraph) (2.11.1)\n",
      "Requirement already satisfied: ormsgpack<2.0.0,>=1.8.0 in c:\\users\\asus\\appdata\\local\\programs\\python\\python313\\lib\\site-packages (from langgraph-checkpoint<3.0.0,>=2.0.10->langgraph) (1.9.1)\n",
      "Requirement already satisfied: httpx>=0.25.2 in c:\\users\\asus\\appdata\\local\\programs\\python\\python313\\lib\\site-packages (from langgraph-sdk<0.2.0,>=0.1.42->langgraph) (0.28.1)\n",
      "Requirement already satisfied: orjson>=3.10.1 in c:\\users\\asus\\appdata\\local\\programs\\python\\python313\\lib\\site-packages (from langgraph-sdk<0.2.0,>=0.1.42->langgraph) (3.10.16)\n",
      "Requirement already satisfied: anyio in c:\\users\\asus\\appdata\\local\\programs\\python\\python313\\lib\\site-packages (from httpx>=0.25.2->langgraph-sdk<0.2.0,>=0.1.42->langgraph) (4.9.0)\n",
      "Requirement already satisfied: certifi in c:\\users\\asus\\appdata\\local\\programs\\python\\python313\\lib\\site-packages (from httpx>=0.25.2->langgraph-sdk<0.2.0,>=0.1.42->langgraph) (2025.1.31)\n",
      "Requirement already satisfied: httpcore==1.* in c:\\users\\asus\\appdata\\local\\programs\\python\\python313\\lib\\site-packages (from httpx>=0.25.2->langgraph-sdk<0.2.0,>=0.1.42->langgraph) (1.0.7)\n",
      "Requirement already satisfied: idna in c:\\users\\asus\\appdata\\local\\programs\\python\\python313\\lib\\site-packages (from httpx>=0.25.2->langgraph-sdk<0.2.0,>=0.1.42->langgraph) (3.10)\n",
      "Requirement already satisfied: h11<0.15,>=0.13 in c:\\users\\asus\\appdata\\local\\programs\\python\\python313\\lib\\site-packages (from httpcore==1.*->httpx>=0.25.2->langgraph-sdk<0.2.0,>=0.1.42->langgraph) (0.14.0)\n",
      "Requirement already satisfied: jsonpointer>=1.9 in c:\\users\\asus\\appdata\\local\\programs\\python\\python313\\lib\\site-packages (from jsonpatch<2.0,>=1.33->langchain-core<0.4,>=0.1->langgraph) (3.0.0)\n",
      "Requirement already satisfied: requests<3,>=2 in c:\\users\\asus\\appdata\\local\\programs\\python\\python313\\lib\\site-packages (from langsmith<0.4,>=0.1.125->langchain-core<0.4,>=0.1->langgraph) (2.32.3)\n",
      "Requirement already satisfied: requests-toolbelt<2.0.0,>=1.0.0 in c:\\users\\asus\\appdata\\local\\programs\\python\\python313\\lib\\site-packages (from langsmith<0.4,>=0.1.125->langchain-core<0.4,>=0.1->langgraph) (1.0.0)\n",
      "Requirement already satisfied: zstandard<0.24.0,>=0.23.0 in c:\\users\\asus\\appdata\\local\\programs\\python\\python313\\lib\\site-packages (from langsmith<0.4,>=0.1.125->langchain-core<0.4,>=0.1->langgraph) (0.23.0)\n",
      "Requirement already satisfied: annotated-types>=0.6.0 in c:\\users\\asus\\appdata\\local\\programs\\python\\python313\\lib\\site-packages (from pydantic<3.0.0,>=2.7.4->langchain-core<0.4,>=0.1->langgraph) (0.7.0)\n",
      "Requirement already satisfied: pydantic-core==2.33.0 in c:\\users\\asus\\appdata\\local\\programs\\python\\python313\\lib\\site-packages (from pydantic<3.0.0,>=2.7.4->langchain-core<0.4,>=0.1->langgraph) (2.33.0)\n",
      "Requirement already satisfied: typing-inspection>=0.4.0 in c:\\users\\asus\\appdata\\local\\programs\\python\\python313\\lib\\site-packages (from pydantic<3.0.0,>=2.7.4->langchain-core<0.4,>=0.1->langgraph) (0.4.0)\n",
      "Requirement already satisfied: charset-normalizer<4,>=2 in c:\\users\\asus\\appdata\\local\\programs\\python\\python313\\lib\\site-packages (from requests<3,>=2->langsmith<0.4,>=0.1.125->langchain-core<0.4,>=0.1->langgraph) (3.4.1)\n",
      "Requirement already satisfied: urllib3<3,>=1.21.1 in c:\\users\\asus\\appdata\\local\\programs\\python\\python313\\lib\\site-packages (from requests<3,>=2->langsmith<0.4,>=0.1.125->langchain-core<0.4,>=0.1->langgraph) (2.3.0)\n",
      "Requirement already satisfied: sniffio>=1.1 in c:\\users\\asus\\appdata\\local\\programs\\python\\python313\\lib\\site-packages (from anyio->httpx>=0.25.2->langgraph-sdk<0.2.0,>=0.1.42->langgraph) (1.3.1)\n",
      "Note: you may need to restart the kernel to use updated packages.\n"
     ]
    }
   ],
   "source": [
    "pip install langgraph"
   ]
  },
  {
   "cell_type": "code",
   "execution_count": 1,
   "id": "fac52a32-0951-4f9b-b4c2-1ea73590ce9f",
   "metadata": {},
   "outputs": [
    {
     "name": "stdout",
     "output_type": "stream",
     "text": [
      "Embeddings loaded successfully!\n"
     ]
    }
   ],
   "source": [
    "from langgraph.graph import StateGraph, END\n",
    "from typing import Annotated, TypedDict\n",
    "from searchFoodImage import get_food_name_from_google\n",
    "from FoodClassifer import classify_image_file\n",
    "from FoodNutients import find_best_match, get_food_details, find_best_food_match\n",
    "# from langchain_ollama import ChatOllama\n",
    "# from langchain_core.prompts import ChatPromptTemplate\n",
    "# from langchain_core.runnables import RunnableLambda\n",
    "\n",
    "# Define image path\n",
    "image_path = \"testingFood.webp\"\n",
    "\n",
    "# # LLMs\n",
    "# llm = ChatOllama(model=\"llama3.1:8b\")\n",
    "# llm2 = ChatOllama(model=\"gemma3:4b\")\n",
    "\n",
    "# # Prompt to clean up food names\n",
    "# query = \"\"\"Extract name of given food array in one line\n",
    "# FoodArray: {food_array}\n",
    "# Answer:\n",
    "# \"\"\"\n",
    "# prompt = ChatPromptTemplate.from_template(query)\n",
    "# food_name_chain = prompt | llm2\n"
   ]
  },
  {
   "cell_type": "code",
   "execution_count": 2,
   "id": "4035deb9-a10e-466b-abf4-9d003d8f0d08",
   "metadata": {},
   "outputs": [],
   "source": [
    "class GraphState(TypedDict):\n",
    "    image_path: str\n",
    "    classification: str\n",
    "    raw_name: str\n",
    "    food_name: str\n",
    "    nutrition: dict\n"
   ]
  },
  {
   "cell_type": "code",
   "execution_count": 3,
   "id": "ab8f13b1-94e9-40ad-8fba-f7380fa06890",
   "metadata": {},
   "outputs": [],
   "source": [
    "async def classify_image(state: GraphState):\n",
    "    image_type = await classify_image_file(state[\"image_path\"])\n",
    "    return {\"classification\": image_type[\"prediction\"]}\n",
    "\n",
    "async def get_food_name(state: GraphState):\n",
    "    if state[\"classification\"] == \"Food\":\n",
    "        name = get_food_name_from_google(state[\"image_path\"])\n",
    "    else:\n",
    "        name = \"Non-Food\"\n",
    "    return {\"raw_name\": name}\n",
    "\n",
    "async def clean_food_name(state: GraphState):\n",
    "    result = find_best_food_match(state[\"raw_name\"])\n",
    "    return {\"food_name\": result}\n",
    "\n",
    "def get_nutrition(state: GraphState):\n",
    "    if state[\"food_name\"] != \"Non-Food\":\n",
    "        info = get_food_details(state[\"food_name\"])\n",
    "    else:\n",
    "        info = {}\n",
    "    return {\"nutrition\": info}\n"
   ]
  },
  {
   "cell_type": "code",
   "execution_count": 6,
   "id": "ef2968d3-5f37-47eb-8381-4d37abafb534",
   "metadata": {},
   "outputs": [],
   "source": [
    "builder = StateGraph(GraphState)\n",
    "\n",
    "builder.add_node(\"classify\", classify_image)\n",
    "builder.add_node(\"get_name\", get_food_name)\n",
    "builder.add_node(\"clean_name\", clean_food_name)\n",
    "builder.add_node(\"get_nutrition\", get_nutrition)\n",
    "\n",
    "builder.set_entry_point(\"classify\")\n",
    "\n",
    "builder.add_edge(\"classify\", \"get_name\")\n",
    "builder.add_edge(\"get_name\", \"clean_name\")\n",
    "builder.add_edge(\"clean_name\", \"get_nutrition\")\n",
    "builder.add_edge(\"get_nutrition\", END)\n",
    "\n",
    "graph = builder.compile()\n"
   ]
  },
  {
   "cell_type": "code",
   "execution_count": 7,
   "id": "f5a6a03d-77cc-48b6-bce8-bee40e480318",
   "metadata": {},
   "outputs": [
    {
     "data": {
      "image/png": "[encoded data removed]",
      "text/plain": [
       "<IPython.core.display.Image object>"
      ]
     },
     "metadata": {},
     "output_type": "display_data"
    }
   ],
   "source": [
    "from IPython.display import Image, display\n",
    "\n",
    "try:\n",
    "    display(Image(graph.get_graph().draw_mermaid_png()))\n",
    "except Exception:\n",
    "    # This requires some extra dependencies and is optional\n",
    "    pass"
   ]
  },
  {
   "cell_type": "code",
   "execution_count": 10,
   "id": "5e8de062-425b-48b9-be83-c9497578096e",
   "metadata": {},
   "outputs": [
    {
     "name": "stdout",
     "output_type": "stream",
     "text": [
      "{'image_path': 'test.jpg', 'classification': 'Food', 'raw_name': ['Samosa', 'Pea samosas', 'Aalu Samosa', 'Golden, flaky, and crispy Samosas are life! Make it today or save it for later. The recipe link in my bio @feastwithsafiya #feastwithsafiya #aloosamosa #samosay #samosa #samosas #samboosa #sambusa #sambusak #samusa #potatosamosa #', 'Priyanshu Kumar | Homemade Samosa with tangy green mango pudina chutney for snacks today. 😍😋 Made by sis @yogitagaharwar . Hand courtesy @akanksha_saha 😊... | Instagram', 'Farah (@farahskitchen23) • Instagram photos and videos', 'Sheenam & Muskaan | SAMOSA TIME😍😍😍 delicious crispy sweet potato samosas that are so yummy and so perfect for snacking 🤤 full recipe on the blog (link in bio)... | Instagram', 'Ramzan Special Recipes ll Iftar Snacks ll Aloo Kay Samosay Recipe by Noor kitchen ll Patato Snakes - YouTube'], 'food_name': 'vegetable samosas', 'nutrition': {'name': 'vegetable samosas', 'id': 257836, 'minutes': 25, 'contributor_id': 607647, 'submitted': '2007-10-08', 'tags': \"['30-minutes-or-less', 'time-to-make', 'course', 'main-ingredient', 'cuisine', 'preparation', 'for-large-groups', 'appetizers', 'potatoes', 'vegetables', 'asian', 'indian', 'easy', 'vegetarian', 'dietary', 'corn', 'onions', 'number-of-servings', '3-steps-or-less']\", 'nutrition': '[65.8, 1.0, 3.0, 2.0, 3.0, 0.0, 4.0]', 'n_steps': 9, 'steps': \"['preheat the oven to 400 degrees f', 'cut each sheet of filo pastry in half lengthwise and fold each piece in half lengthwise to give 28 thin strips', 'lightly brush with oil', 'toss all filling ingredients together in a large mixing bowl until they are well blended', 'adjust the seasoning with salt and lemon juice if necessary', 'using one strip of the pastry at a time , place 1 tbl of the filling mixture at one end and fold the pastry diagonally over', 'continue folding to form a triangle shape', 'brush the samosas with oil', 'bake for 10-15 minutes or until golden brown']\", 'description': \"highly spiced vegetables in a crunch pastry.  adapted from india's 500 best recipes.\", 'ingredients': \"['phyllo pastry', 'vegetable oil', 'potatoes', 'frozen peas', 'canned corn', 'ground coriander', 'ground cumin', 'mango powder', 'onion', 'fresh coriander leaves', 'fresh mint leaves', 'lemon, juice of', 'salt']\", 'n_ingredients': 13}}\n"
     ]
    }
   ],
   "source": [
    "image_path = \"test.jpg\"\n",
    "result = await graph.ainvoke({\"image_path\": image_path})\n",
    "print(result)\n"
   ]
  },
  {
   "cell_type": "code",
   "execution_count": null,
   "id": "4aabded8-157f-4be7-aae9-094d3cde40d8",
   "metadata": {},
   "outputs": [],
   "source": []
  }
 ],
 "metadata": {
  "kernelspec": {
   "display_name": "Python 3 (ipykernel)",
   "language": "python",
   "name": "python3"
  },
  "language_info": {
   "codemirror_mode": {
    "name": "ipython",
    "version": 3
   },
   "file_extension": ".py",
   "mimetype": "text/x-python",
   "name": "python",
   "nbconvert_exporter": "python",
   "pygments_lexer": "ipython3",
   "version": "3.13.0"
  }
 },
 "nbformat": 4,
 "nbformat_minor": 5
}
