{
 "cells": [
  {
   "cell_type": "code",
   "execution_count": 2,
   "id": "c2ceb4aa-2b49-4acb-bad3-75989845a20d",
   "metadata": {},
   "outputs": [
    {
     "ename": "ModuleNotFoundError",
     "evalue": "No module named 'langchain.ollam'",
     "output_type": "error",
     "traceback": [
      "\u001b[31m---------------------------------------------------------------------------\u001b[39m",
      "\u001b[31mModuleNotFoundError\u001b[39m                       Traceback (most recent call last)",
      "\u001b[36mCell\u001b[39m\u001b[36m \u001b[39m\u001b[32mIn[2]\u001b[39m\u001b[32m, line 1\u001b[39m\n\u001b[32m----> \u001b[39m\u001b[32m1\u001b[39m \u001b[38;5;28;01mfrom\u001b[39;00m\u001b[38;5;250m \u001b[39m\u001b[34;01mlangchain\u001b[39;00m\u001b[34;01m.\u001b[39;00m\u001b[34;01mollam\u001b[39;00m\u001b[38;5;250m \u001b[39m\u001b[38;5;28;01mimport\u001b[39;00m ChatOllama\n",
      "\u001b[31mModuleNotFoundError\u001b[39m: No module named 'langchain.ollam'"
     ]
    }
   ],
   "source": [
    "from langchain.ollam import ChatOllama"
   ]
  },
  {
   "cell_type": "code",
   "execution_count": 26,
   "id": "217c160c-2e71-4483-8741-12f53f617997",
   "metadata": {},
   "outputs": [],
   "source": [
    "from langchain_ollama import ChatOllama\n",
    "model_name=\"Goosedev/luna:latest\"\n",
    "llm = ChatOllama(model=model_name)"
   ]
  },
  {
   "cell_type": "code",
   "execution_count": 27,
   "id": "a0b40db0-a632-4676-b9b0-323c33913e54",
   "metadata": {},
   "outputs": [],
   "source": [
    "system_prompt = \"\"\"\n",
    "Your task is to generate a personalized **diet plan** and **exercise plan** based on the user's JSON profile.\n",
    "\n",
    "Guidelines:\n",
    "- Only generate the **diet plan**, **exercise plan**, or both depending on what is asked. If the user asks for only one, respond with just that.\n",
    "- If the user doesn't specify, use your judgment.\n",
    "\n",
    "Your response should include:\n",
    "1. A detailed daily meal plan aligned with their calorie/protein needs, dietary restrictions, allergies, and foods to avoid.\n",
    "2. Exercise suggestions based on their fitness level, goals, and any medical/health conditions.\n",
    "3. A weekly workout structure tailored to the number of days they can train.\n",
    "4. Modifications for any injuries or limitations.\n",
    "5. Keep the plans practical and beginner-friendly if applicable.\n",
    "\n",
    "Input will be provided as structured JSON like:\n",
    "```json\n",
    "{user_profile}\n",
    "Respond clearly in this format:\n",
    "\n",
    "- Diet Plan: (include meals, macros, and notes)\n",
    "\n",
    "- Exercise Plan: (include weekly schedule, workout types, and tips) \n",
    "\"\"\""
   ]
  },
  {
   "cell_type": "code",
   "execution_count": 28,
   "id": "d7e5f466-31ad-4873-be63-65d3b1fa2923",
   "metadata": {},
   "outputs": [],
   "source": [
    "from langchain.prompts import SystemMessagePromptTemplate\n",
    "import json\n",
    "prompt = SystemMessagePromptTemplate.from_template(prompt_template)\n",
    "\n",
    "user_data_json = {\n",
    "    \"id\": \"6811b91434381c8d02d87ef6\",\n",
    "    \"name\": \"Ayush\",\n",
    "    \"Age\": 20,\n",
    "    \"gender\": \"Male\",\n",
    "    \"height\": 156,\n",
    "    \"weight\": 66,\n",
    "    \"goals\": [\"Weight Loss\"],\n",
    "    \"dietary_restrictions\": [\"Vegetarian\"],\n",
    "    \"daily_calorie_intake\": 12345,\n",
    "    \"daily_protein_intake\": 123,\n",
    "    \"foods_to_avoid\": [\"Processed Sugar\"],\n",
    "    \"current_fitness_level\": \"Beginner\",\n",
    "    \"health_considerations\": [\"Low Back Pain\"],\n",
    "    \"medical_conditions\": [\"Asthma\"],\n",
    "    \"food_allergies\": [\"Tree Nuts\"],\n",
    "    \"interested_activities\": [\"Weight Training\"],\n",
    "    \"days_per_week\": 2,\n",
    "    \"preferred_meal_frequency\": 2\n",
    "}\n",
    "\n",
    "prompt_input = prompt.format_messages(user_profile=json.dumps(user_data_json, indent=4))"
   ]
  },
  {
   "cell_type": "code",
   "execution_count": 22,
   "id": "850258c0-5f0d-45a9-914a-4a3697b4b90e",
   "metadata": {},
   "outputs": [
    {
     "data": {
      "text/plain": [
       "SystemMessagePromptTemplate(prompt=PromptTemplate(input_variables=['user_profile'], input_types={}, partial_variables={}, template=\"\\nYou are a fitness and nutrition expert. Based on the following user's profile, generate a personalized **diet plan** and **exercise plan**.\\n\\nThe response should include:\\n1. A daily meal plan considering dietary restrictions, food allergies, and foods to avoid.\\n2. Calorie and protein distribution aligned with goals.\\n3. Suggested types of exercises, frequency, and routines based on fitness level and health considerations.\\n4. Adjustments based on medical conditions or pain/injury limitations.\\n5. Weekly structure (e.g., what to do each workout day).\\n\\nRespond in the following format:\\n- **Diet Plan**: (meals per day with nutritional values)\\n- **Exercise Plan**: (weekly schedule, types of workouts, tips)\\n\\nHere is the user data in JSON format:\\n```json\\n{user_profile}\\n\"), additional_kwargs={})"
      ]
     },
     "execution_count": 22,
     "metadata": {},
     "output_type": "execute_result"
    }
   ],
   "source": [
    "prompt"
   ]
  },
  {
   "cell_type": "code",
   "execution_count": 23,
   "id": "f0c11388-4404-4f12-b70a-a532c747fddf",
   "metadata": {},
   "outputs": [
    {
     "data": {
      "text/plain": [
       "[SystemMessage(content='\\nYou are a fitness and nutrition expert. Based on the following user\\'s profile, generate a personalized **diet plan** and **exercise plan**.\\n\\nThe response should include:\\n1. A daily meal plan considering dietary restrictions, food allergies, and foods to avoid.\\n2. Calorie and protein distribution aligned with goals.\\n3. Suggested types of exercises, frequency, and routines based on fitness level and health considerations.\\n4. Adjustments based on medical conditions or pain/injury limitations.\\n5. Weekly structure (e.g., what to do each workout day).\\n\\nRespond in the following format:\\n- **Diet Plan**: (meals per day with nutritional values)\\n- **Exercise Plan**: (weekly schedule, types of workouts, tips)\\n\\nHere is the user data in JSON format:\\n```json\\n{\\n    \"id\": \"6811b91434381c8d02d87ef6\",\\n    \"name\": \"Ayush\",\\n    \"email\": \"22118@iiitu.ac.in\",\\n    \"Age\": 20,\\n    \"gender\": \"Male\",\\n    \"height\": 156,\\n    \"weight\": 66,\\n    \"goals\": [\\n        \"Weight Loss\"\\n    ],\\n    \"dietary_restrictions\": [\\n        \"Vegetarian\"\\n    ],\\n    \"daily_calorie_intake\": 12345,\\n    \"daily_protein_intake\": 123,\\n    \"foods_to_avoid\": [\\n        \"Processed Sugar\"\\n    ],\\n    \"current_fitness_level\": \"Beginner\",\\n    \"health_considerations\": [\\n        \"Low Back Pain\"\\n    ],\\n    \"medical_conditions\": [\\n        \"Asthma\"\\n    ],\\n    \"food_allergies\": [\\n        \"Tree Nuts\"\\n    ],\\n    \"interested_activities\": [\\n        \"Weight Training\"\\n    ],\\n    \"days_per_week\": 2,\\n    \"preferred_meal_frequency\": 2\\n}\\n', additional_kwargs={}, response_metadata={})]"
      ]
     },
     "execution_count": 23,
     "metadata": {},
     "output_type": "execute_result"
    }
   ],
   "source": [
    "prompt_input"
   ]
  },
  {
   "cell_type": "code",
   "execution_count": 29,
   "id": "5b54fc61-3f29-430f-b62f-3e81fd45fba0",
   "metadata": {},
   "outputs": [
    {
     "data": {
      "text/plain": [
       "AIMessage(content='', additional_kwargs={}, response_metadata={'model': 'Goosedev/luna:latest', 'created_at': '2025-04-30T23:55:35.4044682Z', 'done': True, 'done_reason': 'stop', 'total_duration': 14375227200, 'load_duration': 6342511200, 'prompt_eval_count': 388, 'prompt_eval_duration': 8019551200, 'eval_count': 1, 'eval_duration': 2638500, 'message': Message(role='assistant', content='', images=None, tool_calls=None)}, id='run-1b6d9897-cb0f-4226-8465-6c93a0988e28-0', usage_metadata={'input_tokens': 388, 'output_tokens': 1, 'total_tokens': 389})"
      ]
     },
     "execution_count": 29,
     "metadata": {},
     "output_type": "execute_result"
    }
   ],
   "source": [
    "llm.invoke(prompt_input)"
   ]
  },
  {
   "cell_type": "code",
   "execution_count": 30,
   "id": "3dd3677a-fedd-41e0-acea-60cf62ff11fc",
   "metadata": {},
   "outputs": [
    {
     "data": {
      "text/plain": [
       "AIMessage(content=\"**Customized Diet Plan**\\n\\nBefore we begin, please note that everyone's nutritional needs are different, and it's essential to consult with a healthcare professional or registered dietitian before starting any new diet plan. That being said, here's a general outline for a balanced and effective diet plan:\\n\\n**Caloric Intake:**\\nTo achieve optimal results, I recommend aiming for a caloric intake that allows for weight loss while still providing enough energy for your daily activities.\\n\\nFor a male:\\n- Sedentary (little or no exercise): 1,900-2,400 calories\\n- Lightly active (light exercise/sports 1-3 days/week): 2,000-2,800 calories\\n- Moderately active (moderate exercise/sports 3-5 days/week): 2,200-3,000 calories\\n- Very active (hard exercise/sports 6-7 days a week): 2,400-3,500 calories\\n- Extremely active (very hard exercise/sports & physical job or 2x training): 3,000-4,000 calories\\n\\nFor a female:\\n- Sedentary (little or no exercise): 1,600-2,000 calories\\n- Lightly active (light exercise/sports 1-3 days/week): 1,800-2,400 calories\\n- Moderately active (moderate exercise/sports 3-5 days/week): 2,000-2,800 calories\\n- Very active (hard exercise/sports 6-7 days a week): 2,200-3,000 calories\\n- Extremely active (very hard exercise/sports & physical job or 2x training): 2,400-3,500 calories\\n\\n**Macronutrient Breakdown:**\\n\\nA balanced diet should consist of the following macronutrient breakdown:\\n\\n* Protein: 15-25% of daily calories\\n* Fat: 20-35% of daily calories\\n* Carbohydrates: 45-65% of daily calories\\n\\n**Meal Frequency and Timing:**\\nTo optimize fat loss, I recommend eating 5-6 meals per day, spaced out every 2-3 hours. This includes:\\n\\n* 3 main meals (breakfast, lunch, dinner)\\n* 2-3 snacks\\n* 1 post-workout meal or snack\\n\\n**Food Choices:**\\n\\nHere are some general guidelines for healthy food choices:\\n\\n* **Protein Sources:** lean meats (chicken, turkey, fish), eggs, dairy products, legumes, and plant-based options like beans, lentils, tofu.\\n* **Healthy Fats:** nuts, seeds, avocados, olive oil\\n* **Complex Carbohydrates:** whole grains (brown rice, quinoa, whole wheat), fruits, vegetables\\n* **Fiber-Rich Foods:** whole grains, legumes, fruits, vegetables\\n\\n**Sample Meal Plan:**\\n\\nHere's a sample meal plan for one day:\\n\\n**Breakfast**\\n\\n* 2 eggs\\n* 1 cup cooked oatmeal with banana and almond butter\\n* 1 glass of water\\n\\n**Mid-Morning Snack**\\n\\n* 1 apple\\n* 1 tablespoon almond butter\\n* 1 glass of water\\n\\n**Lunch**\\n\\n* Grilled chicken breast (4 oz)\\n* 1 cup mixed greens salad with veggies and whole grain crackers\\n* 1 serving of brown rice\\n\\n**Pre-Workout Snack**\\n\\n* 1 scoop whey protein powder mixed with 8oz water\\n* 1 medium-sized banana\\n\\n**Post-Workout Meal**\\n\\n* Grilled chicken breast (4 oz)\\n* 1 cup cooked quinoa\\n* 1 cup steamed veggies\\n\\n**Dinner**\\n\\n* Baked salmon (4 oz)\\n* 1 cup roasted vegetables\\n* 1 serving of brown rice\\n\\n**Evening Snack**\\n\\n* 1 small apple\\n* 1 tablespoon almond butter\\n* 1 glass of water\\n\\nRemember, this is just a sample meal plan and should be adjusted based on individual needs and preferences.\\n\\n**Hydration:**\\nAim to drink at least 8-10 glasses of water per day, and consider increasing intake if you're physically active or live in a hot climate.\\n\\n**Supplements:**\\n\\nConsider adding the following supplements to your diet:\\n\\n* Multivitamin\\n* Protein powder (optional)\\n* Creatine (optional)\\n\\nPlease note that everyone's nutritional needs are different, and it's essential to consult with a healthcare professional or registered dietitian before starting any new supplement regimen.\", additional_kwargs={}, response_metadata={'model': 'Goosedev/luna:latest', 'created_at': '2025-04-30T23:57:01.0128002Z', 'done': True, 'done_reason': 'stop', 'total_duration': 85570868500, 'load_duration': 53860700, 'prompt_eval_count': 85, 'prompt_eval_duration': 1284869300, 'eval_count': 935, 'eval_duration': 84228825100, 'message': Message(role='assistant', content='', images=None, tool_calls=None)}, id='run-5d9b0009-f805-4eb4-8c45-7df29dc92223-0', usage_metadata={'input_tokens': 85, 'output_tokens': 935, 'total_tokens': 1020})"
      ]
     },
     "execution_count": 30,
     "metadata": {},
     "output_type": "execute_result"
    }
   ],
   "source": [
    "llm.invoke(\"write a diet plan\")"
   ]
  },
  {
   "cell_type": "code",
   "execution_count": null,
   "id": "6ff74e3c-3024-4503-9b18-12cdfcf973a8",
   "metadata": {},
   "outputs": [],
   "source": []
  }
 ],
 "metadata": {
  "kernelspec": {
   "display_name": "Python 3 (ipykernel)",
   "language": "python",
   "name": "python3"
  },
  "language_info": {
   "codemirror_mode": {
    "name": "ipython",
    "version": 3
   },
   "file_extension": ".py",
   "mimetype": "text/x-python",
   "name": "python",
   "nbconvert_exporter": "python",
   "pygments_lexer": "ipython3",
   "version": "3.13.0"
  }
 },
 "nbformat": 4,
 "nbformat_minor": 5
}
