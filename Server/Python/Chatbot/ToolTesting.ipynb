{
 "cells": [
  {
   "cell_type": "code",
   "execution_count": null,
   "metadata": {},
   "outputs": [
    {
     "ename": "",
     "evalue": "",
     "output_type": "error",
     "traceback": [
      "\u001b[1;31mThe kernel failed to start as the Python Environment 'FITENV (Python 3.8.20)' is no longer available. Consider selecting another kernel or refreshing the list of Python Environments."
     ]
    }
   ],
   "source": [
    "import math\n",
    "\n",
    "from langchain_core.tools import tool\n",
    "\n",
    "def add(a: float, b: float) -> float:\n",
    "    \"\"\"Add two numbers together.\"\"\"\n",
    "    return a + b\n",
    "\n",
    "def multiply(a: float, b: float) -> float:\n",
    "    \"\"\"Multiply two numbers together.\"\"\"\n",
    "    return a * b\n",
    "\n",
    "def divide(a: float, b: float) -> float:\n",
    "    \"\"\"Divide two numbers.\"\"\"\n",
    "    return a / b\n",
    "\n",
    "def subtract(a: float, b: float) -> float:\n",
    "    \"\"\"Subtract two numbers.\"\"\"\n",
    "    return a - b\n",
    "\n",
    "def sin(a: float) -> float:\n",
    "    \"\"\"Take the sine of a number.\"\"\"\n",
    "    return math.sin(a)\n",
    "\n",
    "def cos(a: float) -> float:\n",
    "    \"\"\"Take the cosine of a number.\"\"\"\n",
    "    return math.cos(a)\n",
    "\n",
    "def radians(a: float) -> float:\n",
    "    \"\"\"Convert degrees to radians.\"\"\"\n",
    "    return math.radians(a)\n",
    "\n",
    "def exponentiation(a: float, b: float) -> float:\n",
    "    \"\"\"Raise one number to the power of another.\"\"\"\n",
    "    return a**b\n",
    "\n",
    "def sqrt(a: float) -> float:\n",
    "    \"\"\"Take the square root of a number.\"\"\"\n",
    "    return math.sqrt(a)\n",
    "\n",
    "def ceil(a: float) -> float:\n",
    "    \"\"\"Round a number up to the nearest integer.\"\"\"\n",
    "    return math.ceil(a)\n",
    "\n",
    "tools = [\n",
    "    add,\n",
    "    multiply,\n",
    "    divide,\n",
    "    subtract,\n",
    "    sin,\n",
    "    cos,\n",
    "    radians,\n",
    "    exponentiation,\n",
    "    sqrt,\n",
    "    ceil,\n",
    "]\n"
   ]
  },
  {
   "cell_type": "code",
   "execution_count": null,
   "metadata": {},
   "outputs": [],
   "source": []
  }
 ],
 "metadata": {
  "kernelspec": {
   "display_name": "fitenv",
   "language": "python",
   "name": "python3"
  },
  "language_info": {
   "codemirror_mode": {
    "name": "ipython",
    "version": 3
   },
   "file_extension": ".py",
   "mimetype": "text/x-python",
   "name": "python",
   "nbconvert_exporter": "python",
   "pygments_lexer": "ipython3",
   "version": "3.13.0"
  }
 },
 "nbformat": 4,
 "nbformat_minor": 4
}
